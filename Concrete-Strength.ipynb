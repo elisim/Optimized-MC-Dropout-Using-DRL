{
 "cells": [
  {
   "cell_type": "code",
   "execution_count": 3,
   "metadata": {},
   "outputs": [
    {
     "name": "stdout",
     "output_type": "stream",
     "text": [
      "The autoreload extension is already loaded. To reload it, use:\n",
      "  %reload_ext autoreload\n"
     ]
    }
   ],
   "source": [
    "%load_ext autoreload\n",
    "%autoreload 2\n",
    "\n",
    "import numpy as np\n",
    "np.random.seed(42)\n",
    "\n",
    "from src.data_utils import *\n",
    "from src.yarin_gal_net import net"
   ]
  },
  {
   "cell_type": "code",
   "execution_count": 4,
   "metadata": {},
   "outputs": [],
   "source": [
    "_DATA_FILE = \"Data/Concrete_Strength.txt\"\n",
    "X_train, y_train = get_concrete(_DATA_FILE)\n",
    "X_train, X_train_db, y_train, y_train_db = split_to_create_db(X_train, y_train)"
   ]
  },
  {
   "cell_type": "code",
   "execution_count": 5,
   "metadata": {},
   "outputs": [
    {
     "name": "stdout",
     "output_type": "stream",
     "text": [
      "X_train.shape = (824, 8)\n",
      "X_train_db.shape = (206, 8)\n",
      "y_train.shape = (824,)\n",
      "y_train_db.shape = (206,)\n"
     ]
    }
   ],
   "source": [
    "print(f\"X_train.shape = {X_train.shape}\")\n",
    "print(f\"X_train_db.shape = {X_train_db.shape}\")\n",
    "print(f\"y_train.shape = {y_train.shape}\")\n",
    "print(f\"y_train_db.shape = {y_train_db.shape}\")"
   ]
  },
  {
   "cell_type": "markdown",
   "metadata": {},
   "source": [
    "# Train Concrete Net"
   ]
  },
  {
   "cell_type": "code",
   "execution_count": 7,
   "metadata": {},
   "outputs": [],
   "source": [
    "n_hidden = 40\n",
    "num_hidden_layers = 1\n",
    "load_model=True\n",
    "concrete_net = net(X_train, y_train,\n",
    "                   n_hidden=([n_hidden] * num_hidden_layers),\n",
    "                   n_epochs=4000,\n",
    "                   normalize=True,\n",
    "                   tau=0.05,\n",
    "                   dropout=0.005,\n",
    "                   load_model=load_model\n",
    "                  )\n",
    "\n",
    "if load_model:\n",
    "    concrete_net.load_model(\"Assets/concrete_net_4000_epochs.h5\")\n",
    "else:\n",
    "    concrete_net.save_model(\"Assets/concrete_net_4000_epochs\")"
   ]
  },
  {
   "cell_type": "code",
   "execution_count": 9,
   "metadata": {},
   "outputs": [
    {
     "name": "stdout",
     "output_type": "stream",
     "text": [
      "rmse_standard_pred, mc_rmse, test_ll: 10.378569616762983 9.99389982007692 -4.170848079407234\n"
     ]
    }
   ],
   "source": [
    "rmse_standard_pred, mc_rmse, test_ll, y_mc = concrete_net.predict(X_train_db, y_train_db, T=1000)\n",
    "print(\"rmse_standard_pred, mc_rmse, test_ll:\", rmse_standard_pred, mc_rmse, test_ll)\n"
   ]
  },
  {
   "cell_type": "markdown",
   "metadata": {},
   "source": [
    "# Create DB"
   ]
  },
  {
   "cell_type": "code",
   "execution_count": 13,
   "metadata": {},
   "outputs": [],
   "source": [
    "import joblib\n",
    "from tqdm import tqdm\n",
    "def create_db(net, X_train_db, y_train_db, max_mc_iters):\n",
    "    db = {}\n",
    "    for t in tqdm(range(2, max_mc_iters+1)):\n",
    "        rmse_standard_pred, mc_rmse, test_ll, y_mc = net.predict(X_train_db, y_train_db, T=t)\n",
    "        db[t] = (rmse_standard_pred, mc_rmse, test_ll, y_mc)    \n",
    "    joblib.dump(db, f\"Assets/db_concrete_{max_mc_iters}_iters.jblib\", compress=True)\n",
    "    print(f\"db_{max_mc_iters}_iters created\")"
   ]
  },
  {
   "cell_type": "code",
   "execution_count": 14,
   "metadata": {},
   "outputs": [
    {
     "name": "stderr",
     "output_type": "stream",
     "text": [
      "100%|████████████████| 9999/9999 [8:06:13<00:00,  2.92s/it]\n"
     ]
    },
    {
     "name": "stdout",
     "output_type": "stream",
     "text": [
      "db_10000_iters created\n"
     ]
    }
   ],
   "source": [
    "ans = create_db(concrete_net, X_train_db, y_train_db, 10000)"
   ]
  },
  {
   "cell_type": "code",
   "execution_count": 12,
   "metadata": {},
   "outputs": [
    {
     "name": "stdout",
     "output_type": "stream",
     "text": [
      "Wall time: 970 µs\n"
     ]
    }
   ],
   "source": [
    "%%time\n",
    "db = joblib.load(\"Assets/db_concrete_10000_iters.jblib\")"
   ]
  },
  {
   "cell_type": "code",
   "execution_count": null,
   "metadata": {},
   "outputs": [],
   "source": []
  }
 ],
 "metadata": {
  "kernelspec": {
   "display_name": "Python [conda env:tf1]",
   "language": "python",
   "name": "conda-env-tf1-py"
  },
  "language_info": {
   "codemirror_mode": {
    "name": "ipython",
    "version": 3
   },
   "file_extension": ".py",
   "mimetype": "text/x-python",
   "name": "python",
   "nbconvert_exporter": "python",
   "pygments_lexer": "ipython3",
   "version": "3.7.4"
  },
  "pycharm": {
   "stem_cell": {
    "cell_type": "raw",
    "source": [],
    "metadata": {
     "collapsed": false
    }
   }
  }
 },
 "nbformat": 4,
 "nbformat_minor": 4
}