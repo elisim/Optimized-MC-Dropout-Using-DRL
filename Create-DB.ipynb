{
 "cells": [
  {
   "cell_type": "code",
   "execution_count": null,
   "metadata": {},
   "outputs": [],
   "source": [
    "%load_ext autoreload\n",
    "%autoreload 2\n",
    "\n",
    "import joblib\n",
    "import warnings\n",
    "import tensorflow as tf\n",
    "import numpy as np\n",
    "\n",
    "from src.models import LeNet\n",
    "from src.data_utils import *\n",
    "\n",
    "warnings.filterwarnings(\"ignore\")\n",
    "tf.get_logger().setLevel(tf.logging.ERROR)\n",
    "np.random.seed(42)"
   ]
  },
  {
   "cell_type": "markdown",
   "metadata": {},
   "source": [
    "# Train LeNet"
   ]
  },
  {
   "cell_type": "code",
   "execution_count": null,
   "metadata": {},
   "outputs": [],
   "source": [
    "(X_train, y_train), (X_test, y_test) = get_mnist()\n",
    "X_train, X_train_db, y_train, y_train_db = split_to_create_db(X_train, y_train, fold_size=0.2)"
   ]
  },
  {
   "cell_type": "code",
   "execution_count": null,
   "metadata": {},
   "outputs": [],
   "source": [
    "# prepare the model\n",
    "lenet = LeNet(\n",
    "    input_shape=X_train.shape[1:],\n",
    "    num_classes=10,\n",
    ")\n",
    "\n",
    "epochs = 20\n",
    "mc_rate = 0.5\n",
    "lenet.set_mc_dropout_rate(mc_rate)\n",
    "lenet.train(X_train, y_train, X_test, y_test, epochs=epochs, verbose=1)\n",
    "lenet.save_model(f'Assets/lenet-{mc_rate}-{epochs}-4folds')\n",
    "# lenet.load_model(\"Assets/lenet-0.5-20-4folds.h5\")"
   ]
  },
  {
   "cell_type": "code",
   "execution_count": null,
   "metadata": {},
   "outputs": [],
   "source": [
    "def mc_dropout(net, X_train, batch_size=1000, dropout=0.5, T=100):\n",
    "    \"\"\"\n",
    "    net: keras model with set_mc_dropout_rate function\n",
    "\n",
    "    Forward passes T times, then take the variance from all the predictions for each class.\n",
    "    the mc_dropout score for an example will be the mean of the variances for all the classes.\n",
    "    y_mc_dropout is the mean of all runs.\n",
    "    \"\"\"\n",
    "    net.set_mc_dropout_rate(dropout)\n",
    "    model = net.model\n",
    "    repetitions = []\n",
    "    # Todo: parallelize\n",
    "    for _ in range(T):\n",
    "        pred = model.predict(X_train, batch_size)\n",
    "        repetitions.append(pred)\n",
    "\n",
    "    net.set_mc_dropout_rate(0)\n",
    "    preds = np.array(repetitions)  # T x data x pred\n",
    "\n",
    "    # average over all passes\n",
    "    y_mc_dropout = preds.mean(axis=0)\n",
    "\n",
    "    # get variance from all preds for each example (output: batch x preds classes) each cell is var\n",
    "    mc = np.var(preds, axis=0)\n",
    "    # mean of vars of each class (out: one dim array with batch as dim)\n",
    "    mc_uncertainty = np.mean(mc, axis=-1)\n",
    "\n",
    "    return y_mc_dropout, -mc_uncertainty\n",
    "\n",
    "def create_db(net, X_train_db, max_mc_iters):\n",
    "    from tqdm import tqdm\n",
    "    db = {}\n",
    "    for t in tqdm(range(2, max_mc_iters+1)):\n",
    "        mean, var = mc_dropout(net, X_train_db, T=t)\n",
    "        db[t] = (mean, var)    \n",
    "    joblib.dump(db, f\"Assets/db_{max_mc_iters}_iters.jblib\", compress=True)\n",
    "    return db"
   ]
  },
  {
   "cell_type": "code",
   "execution_count": null,
   "metadata": {},
   "outputs": [],
   "source": [
    "ans = create_db(lenet, X_train_db, 2)"
   ]
  },
  {
   "cell_type": "code",
   "execution_count": null,
   "metadata": {},
   "outputs": [],
   "source": []
  }
 ],
 "metadata": {
  "kernelspec": {
   "display_name": "Python [conda env:tf1]",
   "language": "python",
   "name": "conda-env-tf1-py"
  },
  "language_info": {
   "codemirror_mode": {
    "name": "ipython",
    "version": 3
   },
   "file_extension": ".py",
   "mimetype": "text/x-python",
   "name": "python",
   "nbconvert_exporter": "python",
   "pygments_lexer": "ipython3",
   "version": "3.7.4"
  }
 },
 "nbformat": 4,
 "nbformat_minor": 4
}
