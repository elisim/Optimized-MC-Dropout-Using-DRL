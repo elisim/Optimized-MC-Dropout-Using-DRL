{
 "cells": [
  {
   "cell_type": "code",
   "execution_count": 2,
   "metadata": {},
   "outputs": [],
   "source": [
    "%load_ext autoreload\n",
    "%autoreload 2\n",
    "\n",
    "import joblib\n",
    "import warnings\n",
    "import tensorflow as tf\n",
    "\n",
    "from src.models import LeNet\n",
    "from src.data_utils import *\n",
    "\n",
    "warnings.filterwarnings(\"ignore\")\n",
    "tf.get_logger().setLevel(tf.logging.ERROR)\n",
    "np.random.seed(42)"
   ]
  },
  {
   "cell_type": "markdown",
   "metadata": {},
   "source": [
    "# Train LeNet"
   ]
  },
  {
   "cell_type": "code",
   "execution_count": 26,
   "metadata": {},
   "outputs": [],
   "source": [
    "(X_train, y_train), (X_test, y_test) = get_mnist()\n",
    "X_train, X_train_db, y_train, y_train_db = split_to_create_db(X_train, y_train, fold_size=0.2)"
   ]
  },
  {
   "cell_type": "code",
   "execution_count": 7,
   "metadata": {},
   "outputs": [
    {
     "name": "stdout",
     "output_type": "stream",
     "text": [
      "Training with mc_dropout_rate = 0.5.\n",
      "\n",
      "Train on 48000 samples, validate on 10000 samples\n",
      "Epoch 1/20\n",
      "48000/48000 [==============================] - 4s 90us/step - loss: 0.1767 - acc: 0.9456 - val_loss: 0.0772 - val_acc: 0.9753\n",
      "Epoch 2/20\n",
      "48000/48000 [==============================] - 5s 98us/step - loss: 0.0709 - acc: 0.9779 - val_loss: 0.0541 - val_acc: 0.9826\n",
      "Epoch 3/20\n",
      "48000/48000 [==============================] - 6s 122us/step - loss: 0.0585 - acc: 0.9812 - val_loss: 0.0560 - val_acc: 0.9821\n",
      "Epoch 4/20\n",
      "48000/48000 [==============================] - 5s 114us/step - loss: 0.0483 - acc: 0.9848 - val_loss: 0.0616 - val_acc: 0.9827\n",
      "Epoch 5/20\n",
      "48000/48000 [==============================] - 5s 98us/step - loss: 0.0434 - acc: 0.9869 - val_loss: 0.0483 - val_acc: 0.9866\n",
      "Epoch 6/20\n",
      "48000/48000 [==============================] - 5s 106us/step - loss: 0.0394 - acc: 0.9885 - val_loss: 0.0566 - val_acc: 0.9837\n",
      "Epoch 7/20\n",
      "48000/48000 [==============================] - 6s 131us/step - loss: 0.0358 - acc: 0.9888 - val_loss: 0.0604 - val_acc: 0.9856\n",
      "Epoch 8/20\n",
      "48000/48000 [==============================] - 6s 117us/step - loss: 0.0330 - acc: 0.9900 - val_loss: 0.0680 - val_acc: 0.9841\n",
      "Epoch 9/20\n",
      "48000/48000 [==============================] - 4s 82us/step - loss: 0.0340 - acc: 0.9901 - val_loss: 0.0619 - val_acc: 0.9854\n",
      "Epoch 10/20\n",
      "48000/48000 [==============================] - 6s 120us/step - loss: 0.0314 - acc: 0.9912 - val_loss: 0.0788 - val_acc: 0.9843\n",
      "Epoch 11/20\n",
      "48000/48000 [==============================] - 5s 104us/step - loss: 0.0319 - acc: 0.9912 - val_loss: 0.0832 - val_acc: 0.9831\n",
      "Epoch 12/20\n",
      "48000/48000 [==============================] - 6s 120us/step - loss: 0.0275 - acc: 0.9916 - val_loss: 0.0765 - val_acc: 0.9856\n",
      "Epoch 13/20\n",
      "48000/48000 [==============================] - 5s 95us/step - loss: 0.0306 - acc: 0.9918 - val_loss: 0.0682 - val_acc: 0.9861\n",
      "Epoch 14/20\n",
      "48000/48000 [==============================] - 4s 84us/step - loss: 0.0296 - acc: 0.9920 - val_loss: 0.0884 - val_acc: 0.9847\n",
      "Epoch 15/20\n",
      "48000/48000 [==============================] - 4s 88us/step - loss: 0.0282 - acc: 0.9924 - val_loss: 0.0887 - val_acc: 0.9836\n",
      "Epoch 16/20\n",
      "48000/48000 [==============================] - 5s 97us/step - loss: 0.0300 - acc: 0.9924 - val_loss: 0.0670 - val_acc: 0.9872\n",
      "Epoch 17/20\n",
      "48000/48000 [==============================] - 4s 88us/step - loss: 0.0249 - acc: 0.9938 - val_loss: 0.1030 - val_acc: 0.9834\n",
      "Epoch 18/20\n",
      "48000/48000 [==============================] - 4s 89us/step - loss: 0.0294 - acc: 0.9929 - val_loss: 0.1038 - val_acc: 0.9829\n",
      "Epoch 19/20\n",
      "48000/48000 [==============================] - 5s 112us/step - loss: 0.0307 - acc: 0.9930 - val_loss: 0.1225 - val_acc: 0.9832\n",
      "Epoch 20/20\n",
      "48000/48000 [==============================] - 5s 101us/step - loss: 0.0311 - acc: 0.9927 - val_loss: 0.0913 - val_acc: 0.9854\n"
     ]
    }
   ],
   "source": [
    "# prepare the model\n",
    "lenet = LeNet(\n",
    "    input_shape=X_train.shape[1:],\n",
    "    num_classes=10,\n",
    ")\n",
    "\n",
    "epochs = 20\n",
    "mc_rate = 0.5\n",
    "lenet.set_mc_dropout_rate(mc_rate)\n",
    "lenet.train(X_train, y_train, X_test, y_test, epochs=epochs, verbose=1)\n",
    "\n",
    "# lenet.load_model(\"Assets/lenet-0.5-20-4folds.h5\")"
   ]
  },
  {
   "cell_type": "code",
   "execution_count": 8,
   "metadata": {},
   "outputs": [],
   "source": [
    "lenet.save_model(f'Assets/lenet-{mc_rate}-{epochs}-4folds')"
   ]
  },
  {
   "cell_type": "code",
   "execution_count": 9,
   "metadata": {},
   "outputs": [],
   "source": [
    "def mc_dropout(net, X_train, batch_size=1000, dropout=0.5, T=100):\n",
    "    \"\"\"\n",
    "    net: keras model with set_mc_dropout_rate function\n",
    "\n",
    "    Forward passes T times, then take the variance from all the predictions for each class.\n",
    "    the mc_dropout score for an example will be the mean of the variances for all the classes.\n",
    "    y_mc_dropout is the mean of all runs.\n",
    "    \"\"\"\n",
    "    net.set_mc_dropout_rate(dropout)\n",
    "    model = net.model\n",
    "    repetitions = []\n",
    "    # Todo: parallelize\n",
    "    for _ in range(T):\n",
    "        pred = model.predict(X_train, batch_size)\n",
    "        repetitions.append(pred)\n",
    "\n",
    "    net.set_mc_dropout_rate(0)\n",
    "    preds = np.array(repetitions)  # T x data x pred\n",
    "\n",
    "    # average over all passes\n",
    "    y_mc_dropout = preds.mean(axis=0)\n",
    "\n",
    "    # get variance from all preds for each example (output: batch x preds classes) each cell is var\n",
    "    mc = np.var(preds, axis=0)\n",
    "    # mean of vars of each class (out: one dim array with batch as dim)\n",
    "    mc_uncertainty = np.mean(mc, axis=-1)\n",
    "\n",
    "    return y_mc_dropout, -mc_uncertainty\n",
    "\n",
    "def create_db(net, X_train_db, max_mc_iters):\n",
    "    from tqdm import tqdm\n",
    "    db = {}\n",
    "    for t in tqdm(range(2, max_mc_iters+1)):\n",
    "        mean, var = mc_dropout(net, X_train_db, T=t)\n",
    "        db[t] = (mean, var)    \n",
    "    joblib.dump(db, f\"Assets/db_{max_mc_iters}_iters.jblib\", compress=True)\n",
    "    print(f\"db_{max_mc_iters}_iters created\")"
   ]
  },
  {
   "cell_type": "code",
   "execution_count": 10,
   "metadata": {},
   "outputs": [
    {
     "name": "stderr",
     "output_type": "stream",
     "text": [
      "100%|██████████| 999/999 [8:32:45<00:00, 30.80s/it]  \n"
     ]
    },
    {
     "name": "stdout",
     "output_type": "stream",
     "text": [
      "db_1000_iters created\n"
     ]
    }
   ],
   "source": [
    "ans = create_db(lenet, X_train_db, 1000)"
   ]
  },
  {
   "cell_type": "code",
   "execution_count": 28,
   "metadata": {},
   "outputs": [
    {
     "name": "stdout",
     "output_type": "stream",
     "text": [
      "Wall time: 2.99 s\n"
     ]
    }
   ],
   "source": [
    "%%time\n",
    "db = joblib.load(\"Assets/db_1000_iters.jblib\")"
   ]
  },
  {
   "cell_type": "code",
   "execution_count": null,
   "metadata": {},
   "outputs": [],
   "source": []
  }
 ],
 "metadata": {
  "kernelspec": {
   "display_name": "Python [conda env:tf1]",
   "language": "python",
   "name": "conda-env-tf1-py"
  },
  "language_info": {
   "codemirror_mode": {
    "name": "ipython",
    "version": 3
   },
   "file_extension": ".py",
   "mimetype": "text/x-python",
   "name": "python",
   "nbconvert_exporter": "python",
   "pygments_lexer": "ipython3",
   "version": "3.7.4"
  },
  "pycharm": {
   "stem_cell": {
    "cell_type": "raw",
    "source": [],
    "metadata": {
     "collapsed": false
    }
   }
  }
 },
 "nbformat": 4,
 "nbformat_minor": 4
}