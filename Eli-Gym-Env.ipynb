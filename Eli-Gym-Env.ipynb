{
 "cells": [
  {
   "cell_type": "code",
   "execution_count": 2,
   "metadata": {},
   "outputs": [
    {
     "name": "stdout",
     "output_type": "stream",
     "text": [
      "The autoreload extension is already loaded. To reload it, use:\n",
      "  %reload_ext autoreload\n",
      "GPU available: True\n"
     ]
    }
   ],
   "source": [
    "%load_ext autoreload\n",
    "%autoreload 2\n",
    "\n",
    "import warnings\n",
    "warnings.filterwarnings(\"ignore\")\n",
    "import tensorflow as tf\n",
    "tf.get_logger().setLevel(tf.logging.ERROR)\n",
    "\n",
    "from src.models import LeNet\n",
    "from src.data_utils import get_mnist\n",
    "\n",
    "print(f\"GPU available: {tf.test.is_gpu_available()}\")\n",
    "\n",
    "(X_train, y_train), (X_test, y_test) = get_mnist()\n",
    "\n",
    "# prepare the model\n",
    "lenet = LeNet(\n",
    "    input_shape=X_train.shape[1:],\n",
    "    num_classes=10,\n",
    ")\n",
    "\n"
   ]
  },
  {
   "cell_type": "markdown",
   "metadata": {},
   "source": [
    "# Train"
   ]
  },
  {
   "cell_type": "code",
   "execution_count": 3,
   "metadata": {},
   "outputs": [
    {
     "name": "stdout",
     "output_type": "stream",
     "text": [
      "Training with mc_dropout_rate = 0.5.\n",
      "\n",
      "Train on 60000 samples, validate on 10000 samples\n",
      "Epoch 1/20\n",
      "60000/60000 [==============================] - 6s 106us/step - loss: 0.1524 - acc: 0.9527 - val_loss: 0.0646 - val_acc: 0.9803\n",
      "Epoch 2/20\n",
      "60000/60000 [==============================] - 5s 80us/step - loss: 0.0685 - acc: 0.9794 - val_loss: 0.0592 - val_acc: 0.9807\n",
      "Epoch 3/20\n",
      "60000/60000 [==============================] - 6s 100us/step - loss: 0.0524 - acc: 0.9843 - val_loss: 0.0592 - val_acc: 0.9844\n",
      "Epoch 4/20\n",
      "60000/60000 [==============================] - 6s 92us/step - loss: 0.0482 - acc: 0.9855 - val_loss: 0.0577 - val_acc: 0.9842\n",
      "Epoch 5/20\n",
      "60000/60000 [==============================] - 6s 101us/step - loss: 0.0405 - acc: 0.9872 - val_loss: 0.0735 - val_acc: 0.9812\n",
      "Epoch 6/20\n",
      "60000/60000 [==============================] - 6s 94us/step - loss: 0.0412 - acc: 0.9874 - val_loss: 0.0704 - val_acc: 0.9806\n",
      "Epoch 7/20\n",
      "60000/60000 [==============================] - 7s 120us/step - loss: 0.0319 - acc: 0.9905 - val_loss: 0.0539 - val_acc: 0.9855\n",
      "Epoch 8/20\n",
      "60000/60000 [==============================] - 5s 86us/step - loss: 0.0361 - acc: 0.9898 - val_loss: 0.0657 - val_acc: 0.9840\n",
      "Epoch 9/20\n",
      "60000/60000 [==============================] - 5s 86us/step - loss: 0.0325 - acc: 0.9908 - val_loss: 0.0634 - val_acc: 0.9854\n",
      "Epoch 10/20\n",
      "60000/60000 [==============================] - 5s 88us/step - loss: 0.0309 - acc: 0.9909 - val_loss: 0.0695 - val_acc: 0.9870\n",
      "Epoch 11/20\n",
      "60000/60000 [==============================] - 6s 106us/step - loss: 0.0316 - acc: 0.9912 - val_loss: 0.0713 - val_acc: 0.9842\n",
      "Epoch 12/20\n",
      "60000/60000 [==============================] - 5s 86us/step - loss: 0.0257 - acc: 0.9926 - val_loss: 0.0728 - val_acc: 0.9854\n",
      "Epoch 13/20\n",
      "60000/60000 [==============================] - 5s 79us/step - loss: 0.0304 - acc: 0.9918 - val_loss: 0.0829 - val_acc: 0.9849\n",
      "Epoch 14/20\n",
      "60000/60000 [==============================] - 5s 85us/step - loss: 0.0313 - acc: 0.9918 - val_loss: 0.0855 - val_acc: 0.9844\n",
      "Epoch 15/20\n",
      "60000/60000 [==============================] - 6s 93us/step - loss: 0.0294 - acc: 0.9923 - val_loss: 0.0731 - val_acc: 0.9868\n",
      "Epoch 16/20\n",
      "60000/60000 [==============================] - 4s 72us/step - loss: 0.0286 - acc: 0.9931 - val_loss: 0.0959 - val_acc: 0.9855\n",
      "Epoch 17/20\n",
      "60000/60000 [==============================] - 5s 81us/step - loss: 0.0248 - acc: 0.9937 - val_loss: 0.1032 - val_acc: 0.9834\n",
      "Epoch 18/20\n",
      "60000/60000 [==============================] - 5s 87us/step - loss: 0.0346 - acc: 0.9928 - val_loss: 0.1057 - val_acc: 0.9841\n",
      "Epoch 19/20\n",
      "60000/60000 [==============================] - 7s 113us/step - loss: 0.0254 - acc: 0.9940 - val_loss: 0.1303 - val_acc: 0.9825\n",
      "Epoch 20/20\n",
      "60000/60000 [==============================] - 5s 86us/step - loss: 0.0349 - acc: 0.9930 - val_loss: 0.1345 - val_acc: 0.9818\n",
      "CPU times: user 2min 45s, sys: 13.5 s, total: 2min 58s\n",
      "Wall time: 1min 51s\n"
     ]
    }
   ],
   "source": [
    "%%time\n",
    "\n",
    "epochs=20\n",
    "mc_rate=0.5\n",
    "lenet.set_mc_dropout_rate(mc_rate)\n",
    "lenet.train(X_train, y_train, X_test, y_test, epochs=epochs, verbose=1)\n",
    "\n",
    "# lenet.save_model(f'lenet-{mc_rate}-{epochs}')"
   ]
  },
  {
   "cell_type": "code",
   "execution_count": 6,
   "metadata": {},
   "outputs": [],
   "source": [
    "from gym_eli.envs import EliEnv\n",
    "import gym\n",
    "\n",
    "from stable_baselines.common.policies import MlpPolicy\n",
    "from stable_baselines.common.vec_env import DummyVecEnv\n",
    "from stable_baselines import PPO2"
   ]
  },
  {
   "cell_type": "code",
   "execution_count": 5,
   "metadata": {},
   "outputs": [
    {
     "name": "stdout",
     "output_type": "stream",
     "text": [
      "in init\n"
     ]
    }
   ],
   "source": [
    "mask = 1000\n",
    "X_train = X_train[:mask]\n",
    "y_train = y_train[:mask]\n",
    "\n",
    "# The algorithms require a vectorized environment to run\n",
    "env = DummyVecEnv([lambda: EliEnv(net=lenet,\n",
    "                                  confidence_rate=0.5, \n",
    "                                  X_train=X_train, \n",
    "                                  y_train=y_train,\n",
    "                                  )])"
   ]
  },
  {
   "cell_type": "markdown",
   "source": [
    "# Train Agent"
   ],
   "metadata": {
    "collapsed": false,
    "pycharm": {
     "name": "#%% md\n"
    }
   }
  },
  {
   "cell_type": "code",
   "execution_count": 7,
   "metadata": {},
   "outputs": [
    {
     "name": "stdout",
     "output_type": "stream",
     "text": [
      "WARNING:tensorflow:From /home/eli/anaconda3/envs/teza/lib/python3.7/site-packages/stable_baselines/common/tf_util.py:57: The name tf.ConfigProto is deprecated. Please use tf.compat.v1.ConfigProto instead.\n",
      "\n",
      "WARNING:tensorflow:From /home/eli/anaconda3/envs/teza/lib/python3.7/site-packages/stable_baselines/common/tf_util.py:66: The name tf.Session is deprecated. Please use tf.compat.v1.Session instead.\n",
      "\n",
      "WARNING:tensorflow:From /home/eli/anaconda3/envs/teza/lib/python3.7/site-packages/stable_baselines/common/policies.py:115: The name tf.variable_scope is deprecated. Please use tf.compat.v1.variable_scope instead.\n",
      "\n",
      "WARNING:tensorflow:From /home/eli/anaconda3/envs/teza/lib/python3.7/site-packages/stable_baselines/common/input.py:25: The name tf.placeholder is deprecated. Please use tf.compat.v1.placeholder instead.\n",
      "\n",
      "WARNING:tensorflow:From /home/eli/anaconda3/envs/teza/lib/python3.7/site-packages/stable_baselines/common/policies.py:562: flatten (from tensorflow.python.layers.core) is deprecated and will be removed in a future version.\n",
      "Instructions for updating:\n",
      "Use keras.layers.flatten instead.\n",
      "WARNING:tensorflow:From /home/eli/anaconda3/envs/teza/lib/python3.7/site-packages/stable_baselines/ppo2/ppo2.py:193: The name tf.summary.scalar is deprecated. Please use tf.compat.v1.summary.scalar instead.\n",
      "\n",
      "WARNING:tensorflow:From /home/eli/anaconda3/envs/teza/lib/python3.7/site-packages/tensorflow/python/ops/math_grad.py:1250: add_dispatch_support.<locals>.wrapper (from tensorflow.python.ops.array_ops) is deprecated and will be removed in a future version.\n",
      "Instructions for updating:\n",
      "Use tf.where in 2.0, which has the same broadcast rule as np.where\n",
      "WARNING:tensorflow:From /home/eli/anaconda3/envs/teza/lib/python3.7/site-packages/stable_baselines/ppo2/ppo2.py:209: The name tf.train.AdamOptimizer is deprecated. Please use tf.compat.v1.train.AdamOptimizer instead.\n",
      "\n",
      "WARNING:tensorflow:From /home/eli/anaconda3/envs/teza/lib/python3.7/site-packages/stable_baselines/ppo2/ppo2.py:245: The name tf.summary.merge_all is deprecated. Please use tf.compat.v1.summary.merge_all instead.\n",
      "\n",
      "in reset\n"
     ]
    },
    {
     "name": "stderr",
     "output_type": "stream",
     "text": [
      "  3%|▎         | 20/687 [00:00<00:03, 196.58it/s]"
     ]
    },
    {
     "name": "stdout",
     "output_type": "stream",
     "text": [
      "in step\n",
      "in take action\n",
      "action=687\n"
     ]
    },
    {
     "name": "stderr",
     "output_type": "stream",
     "text": [
      "100%|██████████| 687/687 [00:03<00:00, 212.60it/s]\n",
      "  6%|▌         | 32/522 [00:00<00:01, 314.99it/s]"
     ]
    },
    {
     "name": "stdout",
     "output_type": "stream",
     "text": [
      "in reset\n",
      "in step\n",
      "in take action\n",
      "action=522\n"
     ]
    },
    {
     "name": "stderr",
     "output_type": "stream",
     "text": [
      "100%|██████████| 522/522 [00:02<00:00, 193.72it/s]\n",
      " 30%|███       | 32/106 [00:00<00:00, 314.78it/s]"
     ]
    },
    {
     "name": "stdout",
     "output_type": "stream",
     "text": [
      "in reset\n",
      "in step\n",
      "in take action\n",
      "action=106\n"
     ]
    },
    {
     "name": "stderr",
     "output_type": "stream",
     "text": [
      "100%|██████████| 106/106 [00:00<00:00, 245.53it/s]\n",
      "  6%|▌         | 26/434 [00:00<00:01, 248.91it/s]"
     ]
    },
    {
     "name": "stdout",
     "output_type": "stream",
     "text": [
      "in reset\n",
      "in step\n",
      "in take action\n",
      "action=434\n"
     ]
    },
    {
     "name": "stderr",
     "output_type": "stream",
     "text": [
      "100%|██████████| 434/434 [00:02<00:00, 195.73it/s]\n",
      "  8%|▊         | 32/420 [00:00<00:01, 311.77it/s]"
     ]
    },
    {
     "name": "stdout",
     "output_type": "stream",
     "text": [
      "in reset\n",
      "in step\n",
      "in take action\n",
      "action=420\n"
     ]
    },
    {
     "name": "stderr",
     "output_type": "stream",
     "text": [
      "100%|██████████| 420/420 [00:02<00:00, 196.30it/s]\n",
      "  4%|▎         | 31/860 [00:00<00:02, 299.36it/s]"
     ]
    },
    {
     "name": "stdout",
     "output_type": "stream",
     "text": [
      "in reset\n",
      "in step\n",
      "in take action\n",
      "action=860\n"
     ]
    },
    {
     "name": "stderr",
     "output_type": "stream",
     "text": [
      "100%|██████████| 860/860 [00:04<00:00, 202.63it/s]\n",
      " 16%|█▌        | 31/192 [00:00<00:00, 308.63it/s]"
     ]
    },
    {
     "name": "stdout",
     "output_type": "stream",
     "text": [
      "in reset\n",
      "in step\n",
      "in take action\n",
      "action=192\n"
     ]
    },
    {
     "name": "stderr",
     "output_type": "stream",
     "text": [
      "100%|██████████| 192/192 [00:00<00:00, 261.62it/s]\n",
      "  4%|▎         | 28/752 [00:00<00:02, 275.74it/s]"
     ]
    },
    {
     "name": "stdout",
     "output_type": "stream",
     "text": [
      "in reset\n",
      "in step\n",
      "in take action\n",
      "action=752\n"
     ]
    },
    {
     "name": "stderr",
     "output_type": "stream",
     "text": [
      "100%|██████████| 752/752 [00:03<00:00, 192.16it/s]\n",
      "  5%|▌         | 32/626 [00:00<00:01, 312.14it/s]"
     ]
    },
    {
     "name": "stdout",
     "output_type": "stream",
     "text": [
      "in reset\n",
      "in step\n",
      "in take action\n",
      "action=626\n"
     ]
    },
    {
     "name": "stderr",
     "output_type": "stream",
     "text": [
      "100%|██████████| 626/626 [00:03<00:00, 199.30it/s]\n",
      "  5%|▍         | 31/678 [00:00<00:02, 302.11it/s]"
     ]
    },
    {
     "name": "stdout",
     "output_type": "stream",
     "text": [
      "in reset\n",
      "in step\n",
      "in take action\n",
      "action=678\n"
     ]
    },
    {
     "name": "stderr",
     "output_type": "stream",
     "text": [
      "100%|██████████| 678/678 [00:03<00:00, 203.17it/s]\n",
      "  4%|▍         | 32/750 [00:00<00:02, 319.61it/s]"
     ]
    },
    {
     "name": "stdout",
     "output_type": "stream",
     "text": [
      "in reset\n",
      "in step\n",
      "in take action\n",
      "action=750\n"
     ]
    },
    {
     "name": "stderr",
     "output_type": "stream",
     "text": [
      "100%|██████████| 750/750 [00:03<00:00, 219.04it/s]\n",
      "  9%|▉         | 32/363 [00:00<00:01, 309.81it/s]"
     ]
    },
    {
     "name": "stdout",
     "output_type": "stream",
     "text": [
      "in reset\n",
      "in step\n",
      "in take action\n",
      "action=363\n"
     ]
    },
    {
     "name": "stderr",
     "output_type": "stream",
     "text": [
      "100%|██████████| 363/363 [00:01<00:00, 193.32it/s]\n",
      "  5%|▌         | 30/571 [00:00<00:01, 286.56it/s]"
     ]
    },
    {
     "name": "stdout",
     "output_type": "stream",
     "text": [
      "in reset\n",
      "in step\n",
      "in take action\n",
      "action=571\n"
     ]
    },
    {
     "name": "stderr",
     "output_type": "stream",
     "text": [
      "100%|██████████| 571/571 [00:02<00:00, 200.41it/s]\n",
      " 11%|█         | 31/279 [00:00<00:00, 309.76it/s]"
     ]
    },
    {
     "name": "stdout",
     "output_type": "stream",
     "text": [
      "in reset\n",
      "in step\n",
      "in take action\n",
      "action=279\n"
     ]
    },
    {
     "name": "stderr",
     "output_type": "stream",
     "text": [
      "100%|██████████| 279/279 [00:01<00:00, 199.13it/s]\n",
      "  4%|▎         | 33/895 [00:00<00:02, 321.42it/s]"
     ]
    },
    {
     "name": "stdout",
     "output_type": "stream",
     "text": [
      "in reset\n",
      "in step\n",
      "in take action\n",
      "action=895\n"
     ]
    },
    {
     "name": "stderr",
     "output_type": "stream",
     "text": [
      "100%|██████████| 895/895 [00:04<00:00, 192.95it/s]\n",
      " 18%|█▊        | 34/192 [00:00<00:00, 329.62it/s]"
     ]
    },
    {
     "name": "stdout",
     "output_type": "stream",
     "text": [
      "in reset\n",
      "in step\n",
      "in take action\n",
      "action=192\n"
     ]
    },
    {
     "name": "stderr",
     "output_type": "stream",
     "text": [
      "100%|██████████| 192/192 [00:00<00:00, 198.44it/s]\n",
      "  3%|▎         | 26/854 [00:00<00:03, 259.06it/s]"
     ]
    },
    {
     "name": "stdout",
     "output_type": "stream",
     "text": [
      "in reset\n",
      "in step\n",
      "in take action\n",
      "action=854\n"
     ]
    },
    {
     "name": "stderr",
     "output_type": "stream",
     "text": [
      "100%|██████████| 854/854 [00:03<00:00, 223.42it/s]\n",
      " 11%|█         | 31/280 [00:00<00:00, 304.59it/s]"
     ]
    },
    {
     "name": "stdout",
     "output_type": "stream",
     "text": [
      "in reset\n",
      "in step\n",
      "in take action\n",
      "action=280\n"
     ]
    },
    {
     "name": "stderr",
     "output_type": "stream",
     "text": [
      "100%|██████████| 280/280 [00:01<00:00, 185.80it/s]\n",
      "  3%|▎         | 32/930 [00:00<00:02, 311.72it/s]"
     ]
    },
    {
     "name": "stdout",
     "output_type": "stream",
     "text": [
      "in reset\n",
      "in step\n",
      "in take action\n",
      "action=930\n"
     ]
    },
    {
     "name": "stderr",
     "output_type": "stream",
     "text": [
      "100%|██████████| 930/930 [00:04<00:00, 208.54it/s]\n",
      "  5%|▍         | 32/672 [00:00<00:02, 307.55it/s]"
     ]
    },
    {
     "name": "stdout",
     "output_type": "stream",
     "text": [
      "in reset\n",
      "in step\n",
      "in take action\n",
      "action=672\n"
     ]
    },
    {
     "name": "stderr",
     "output_type": "stream",
     "text": [
      "100%|██████████| 672/672 [00:03<00:00, 188.99it/s]\n",
      "  9%|▉         | 32/337 [00:00<00:00, 309.54it/s]"
     ]
    },
    {
     "name": "stdout",
     "output_type": "stream",
     "text": [
      "in reset\n",
      "in step\n",
      "in take action\n",
      "action=337\n"
     ]
    },
    {
     "name": "stderr",
     "output_type": "stream",
     "text": [
      "100%|██████████| 337/337 [00:01<00:00, 194.26it/s]\n",
      "  3%|▎         | 30/888 [00:00<00:02, 297.32it/s]"
     ]
    },
    {
     "name": "stdout",
     "output_type": "stream",
     "text": [
      "in reset\n",
      "in step\n",
      "in take action\n",
      "action=888\n"
     ]
    },
    {
     "name": "stderr",
     "output_type": "stream",
     "text": [
      "100%|██████████| 888/888 [00:04<00:00, 192.29it/s]\n",
      "  5%|▌         | 32/620 [00:00<00:01, 315.82it/s]"
     ]
    },
    {
     "name": "stdout",
     "output_type": "stream",
     "text": [
      "in reset\n",
      "in step\n",
      "in take action\n",
      "action=620\n"
     ]
    },
    {
     "name": "stderr",
     "output_type": "stream",
     "text": [
      "100%|██████████| 620/620 [00:03<00:00, 205.88it/s]\n",
      " 13%|█▎        | 35/270 [00:00<00:00, 339.99it/s]"
     ]
    },
    {
     "name": "stdout",
     "output_type": "stream",
     "text": [
      "in reset\n",
      "in step\n",
      "in take action\n",
      "action=270\n"
     ]
    },
    {
     "name": "stderr",
     "output_type": "stream",
     "text": [
      "100%|██████████| 270/270 [00:01<00:00, 233.27it/s]\n",
      "  3%|▎         | 28/931 [00:00<00:03, 275.91it/s]"
     ]
    },
    {
     "name": "stdout",
     "output_type": "stream",
     "text": [
      "in reset\n",
      "in step\n",
      "in take action\n",
      "action=931\n"
     ]
    },
    {
     "name": "stderr",
     "output_type": "stream",
     "text": [
      "100%|██████████| 931/931 [00:05<00:00, 185.27it/s]\n",
      "  5%|▌         | 33/639 [00:00<00:01, 324.71it/s]"
     ]
    },
    {
     "name": "stdout",
     "output_type": "stream",
     "text": [
      "in reset\n",
      "in step\n",
      "in take action\n",
      "action=639\n"
     ]
    },
    {
     "name": "stderr",
     "output_type": "stream",
     "text": [
      "100%|██████████| 639/639 [00:03<00:00, 203.33it/s]\n",
      "  8%|▊         | 31/385 [00:00<00:01, 300.24it/s]"
     ]
    },
    {
     "name": "stdout",
     "output_type": "stream",
     "text": [
      "in reset\n",
      "in step\n",
      "in take action\n",
      "action=385\n"
     ]
    },
    {
     "name": "stderr",
     "output_type": "stream",
     "text": [
      "100%|██████████| 385/385 [00:01<00:00, 210.47it/s]\n",
      "  6%|▌         | 29/513 [00:00<00:01, 284.44it/s]"
     ]
    },
    {
     "name": "stdout",
     "output_type": "stream",
     "text": [
      "in reset\n",
      "in step\n",
      "in take action\n",
      "action=513\n"
     ]
    },
    {
     "name": "stderr",
     "output_type": "stream",
     "text": [
      "100%|██████████| 513/513 [00:02<00:00, 191.39it/s]\n",
      " 12%|█▏        | 35/300 [00:00<00:00, 340.05it/s]"
     ]
    },
    {
     "name": "stdout",
     "output_type": "stream",
     "text": [
      "in reset\n",
      "in step\n",
      "in take action\n",
      "action=300\n"
     ]
    },
    {
     "name": "stderr",
     "output_type": "stream",
     "text": [
      "100%|██████████| 300/300 [00:01<00:00, 200.04it/s]\n",
      "  7%|▋         | 29/408 [00:00<00:01, 284.25it/s]"
     ]
    },
    {
     "name": "stdout",
     "output_type": "stream",
     "text": [
      "in reset\n",
      "in step\n",
      "in take action\n",
      "action=408\n"
     ]
    },
    {
     "name": "stderr",
     "output_type": "stream",
     "text": [
      "100%|██████████| 408/408 [00:01<00:00, 204.23it/s]\n",
      " 12%|█▏        | 29/240 [00:00<00:00, 285.27it/s]"
     ]
    },
    {
     "name": "stdout",
     "output_type": "stream",
     "text": [
      "in reset\n",
      "in step\n",
      "in take action\n",
      "action=240\n"
     ]
    },
    {
     "name": "stderr",
     "output_type": "stream",
     "text": [
      "100%|██████████| 240/240 [00:01<00:00, 204.02it/s]\n",
      "  4%|▎         | 30/857 [00:00<00:02, 296.37it/s]"
     ]
    },
    {
     "name": "stdout",
     "output_type": "stream",
     "text": [
      "in reset\n",
      "in step\n",
      "in take action\n",
      "action=857\n"
     ]
    },
    {
     "name": "stderr",
     "output_type": "stream",
     "text": [
      "100%|██████████| 857/857 [00:04<00:00, 199.82it/s]\n",
      "  8%|▊         | 30/375 [00:00<00:01, 291.15it/s]"
     ]
    },
    {
     "name": "stdout",
     "output_type": "stream",
     "text": [
      "in reset\n",
      "in step\n",
      "in take action\n",
      "action=375\n"
     ]
    },
    {
     "name": "stderr",
     "output_type": "stream",
     "text": [
      "100%|██████████| 375/375 [00:01<00:00, 218.15it/s]\n",
      "  4%|▍         | 34/856 [00:00<00:02, 328.95it/s]"
     ]
    },
    {
     "name": "stdout",
     "output_type": "stream",
     "text": [
      "in reset\n",
      "in step\n",
      "in take action\n",
      "action=856\n"
     ]
    },
    {
     "name": "stderr",
     "output_type": "stream",
     "text": [
      "100%|██████████| 856/856 [00:04<00:00, 188.18it/s]\n",
      "  3%|▎         | 33/991 [00:00<00:02, 328.01it/s]"
     ]
    },
    {
     "name": "stdout",
     "output_type": "stream",
     "text": [
      "in reset\n",
      "in step\n",
      "in take action\n",
      "action=991\n"
     ]
    },
    {
     "name": "stderr",
     "output_type": "stream",
     "text": [
      "100%|██████████| 991/991 [00:04<00:00, 212.06it/s]\n",
      "  8%|▊         | 31/390 [00:00<00:01, 308.17it/s]"
     ]
    },
    {
     "name": "stdout",
     "output_type": "stream",
     "text": [
      "in reset\n",
      "in step\n",
      "in take action\n",
      "action=390\n"
     ]
    },
    {
     "name": "stderr",
     "output_type": "stream",
     "text": [
      "100%|██████████| 390/390 [00:01<00:00, 210.89it/s]\n",
      " 12%|█▏        | 32/270 [00:00<00:00, 318.34it/s]"
     ]
    },
    {
     "name": "stdout",
     "output_type": "stream",
     "text": [
      "in reset\n",
      "in step\n",
      "in take action\n",
      "action=270\n"
     ]
    },
    {
     "name": "stderr",
     "output_type": "stream",
     "text": [
      "100%|██████████| 270/270 [00:01<00:00, 211.61it/s]\n",
      "  3%|▎         | 25/842 [00:00<00:03, 244.10it/s]"
     ]
    },
    {
     "name": "stdout",
     "output_type": "stream",
     "text": [
      "in reset\n",
      "in step\n",
      "in take action\n",
      "action=842\n"
     ]
    },
    {
     "name": "stderr",
     "output_type": "stream",
     "text": [
      "100%|██████████| 842/842 [00:04<00:00, 199.06it/s]\n",
      "  3%|▎         | 31/936 [00:00<00:02, 305.42it/s]"
     ]
    },
    {
     "name": "stdout",
     "output_type": "stream",
     "text": [
      "in reset\n",
      "in step\n",
      "in take action\n",
      "action=936\n"
     ]
    },
    {
     "name": "stderr",
     "output_type": "stream",
     "text": [
      "100%|██████████| 936/936 [00:04<00:00, 197.61it/s]\n",
      "  4%|▍         | 30/713 [00:00<00:02, 291.06it/s]"
     ]
    },
    {
     "name": "stdout",
     "output_type": "stream",
     "text": [
      "in reset\n",
      "in step\n",
      "in take action\n",
      "action=713\n"
     ]
    },
    {
     "name": "stderr",
     "output_type": "stream",
     "text": [
      "100%|██████████| 713/713 [00:03<00:00, 197.65it/s]\n",
      "  3%|▎         | 31/973 [00:00<00:03, 296.65it/s]"
     ]
    },
    {
     "name": "stdout",
     "output_type": "stream",
     "text": [
      "in reset\n",
      "in step\n",
      "in take action\n",
      "action=973\n"
     ]
    },
    {
     "name": "stderr",
     "output_type": "stream",
     "text": [
      "100%|██████████| 973/973 [00:04<00:00, 221.60it/s]\n",
      "  4%|▍         | 33/740 [00:00<00:02, 318.33it/s]"
     ]
    },
    {
     "name": "stdout",
     "output_type": "stream",
     "text": [
      "in reset\n",
      "in step\n",
      "in take action\n",
      "action=740\n"
     ]
    },
    {
     "name": "stderr",
     "output_type": "stream",
     "text": [
      "100%|██████████| 740/740 [00:03<00:00, 203.36it/s]\n",
      "  5%|▍         | 33/720 [00:00<00:02, 326.24it/s]"
     ]
    },
    {
     "name": "stdout",
     "output_type": "stream",
     "text": [
      "in reset\n",
      "in step\n",
      "in take action\n",
      "action=720\n"
     ]
    },
    {
     "name": "stderr",
     "output_type": "stream",
     "text": [
      "100%|██████████| 720/720 [00:03<00:00, 196.15it/s]\n",
      "  8%|▊         | 32/396 [00:00<00:01, 310.36it/s]"
     ]
    },
    {
     "name": "stdout",
     "output_type": "stream",
     "text": [
      "in reset\n",
      "in step\n",
      "in take action\n",
      "action=396\n"
     ]
    },
    {
     "name": "stderr",
     "output_type": "stream",
     "text": [
      "100%|██████████| 396/396 [00:02<00:00, 187.78it/s]\n",
      " 34%|███▍      | 28/82 [00:00<00:00, 277.93it/s]"
     ]
    },
    {
     "name": "stdout",
     "output_type": "stream",
     "text": [
      "in reset\n",
      "in step\n",
      "in take action\n",
      "action=82\n"
     ]
    },
    {
     "name": "stderr",
     "output_type": "stream",
     "text": [
      "100%|██████████| 82/82 [00:00<00:00, 236.02it/s]\n",
      "  5%|▌         | 24/468 [00:00<00:01, 238.71it/s]"
     ]
    },
    {
     "name": "stdout",
     "output_type": "stream",
     "text": [
      "in reset\n",
      "in step\n",
      "in take action\n",
      "action=468\n"
     ]
    },
    {
     "name": "stderr",
     "output_type": "stream",
     "text": [
      "100%|██████████| 468/468 [00:01<00:00, 238.80it/s]\n",
      "  3%|▎         | 30/859 [00:00<00:02, 297.32it/s]"
     ]
    },
    {
     "name": "stdout",
     "output_type": "stream",
     "text": [
      "in reset\n",
      "in step\n",
      "in take action\n",
      "action=859\n"
     ]
    },
    {
     "name": "stderr",
     "output_type": "stream",
     "text": [
      "100%|██████████| 859/859 [00:04<00:00, 211.70it/s]\n",
      "  4%|▎         | 32/870 [00:00<00:02, 317.41it/s]"
     ]
    },
    {
     "name": "stdout",
     "output_type": "stream",
     "text": [
      "in reset\n",
      "in step\n",
      "in take action\n",
      "action=870\n"
     ]
    },
    {
     "name": "stderr",
     "output_type": "stream",
     "text": [
      "100%|██████████| 870/870 [00:04<00:00, 208.91it/s]\n",
      "  5%|▌         | 31/590 [00:00<00:01, 305.17it/s]"
     ]
    },
    {
     "name": "stdout",
     "output_type": "stream",
     "text": [
      "in reset\n",
      "in step\n",
      "in take action\n",
      "action=590\n"
     ]
    },
    {
     "name": "stderr",
     "output_type": "stream",
     "text": [
      "100%|██████████| 590/590 [00:02<00:00, 221.32it/s]\n",
      "  9%|▉         | 34/374 [00:00<00:01, 332.91it/s]"
     ]
    },
    {
     "name": "stdout",
     "output_type": "stream",
     "text": [
      "in reset\n",
      "in step\n",
      "in take action\n",
      "action=374\n"
     ]
    },
    {
     "name": "stderr",
     "output_type": "stream",
     "text": [
      "100%|██████████| 374/374 [00:01<00:00, 235.66it/s]\n",
      "  4%|▎         | 34/960 [00:00<00:02, 337.36it/s]"
     ]
    },
    {
     "name": "stdout",
     "output_type": "stream",
     "text": [
      "in reset\n",
      "in step\n",
      "in take action\n",
      "action=960\n"
     ]
    },
    {
     "name": "stderr",
     "output_type": "stream",
     "text": [
      "100%|██████████| 960/960 [00:05<00:00, 190.13it/s]\n",
      "  6%|▌         | 31/545 [00:00<00:01, 309.52it/s]"
     ]
    },
    {
     "name": "stdout",
     "output_type": "stream",
     "text": [
      "in reset\n",
      "in step\n",
      "in take action\n",
      "action=545\n"
     ]
    },
    {
     "name": "stderr",
     "output_type": "stream",
     "text": [
      "100%|██████████| 545/545 [00:02<00:00, 194.73it/s]\n",
      " 17%|█▋        | 31/179 [00:00<00:00, 304.75it/s]"
     ]
    },
    {
     "name": "stdout",
     "output_type": "stream",
     "text": [
      "in reset\n",
      "in step\n",
      "in take action\n",
      "action=179\n"
     ]
    },
    {
     "name": "stderr",
     "output_type": "stream",
     "text": [
      "100%|██████████| 179/179 [00:00<00:00, 213.91it/s]\n",
      " 13%|█▎        | 32/242 [00:00<00:00, 318.09it/s]"
     ]
    },
    {
     "name": "stdout",
     "output_type": "stream",
     "text": [
      "in reset\n",
      "in step\n",
      "in take action\n",
      "action=242\n"
     ]
    },
    {
     "name": "stderr",
     "output_type": "stream",
     "text": [
      "100%|██████████| 242/242 [00:01<00:00, 195.50it/s]\n",
      "  3%|▎         | 26/884 [00:00<00:03, 257.66it/s]"
     ]
    },
    {
     "name": "stdout",
     "output_type": "stream",
     "text": [
      "in reset\n",
      "in step\n",
      "in take action\n",
      "action=884\n"
     ]
    },
    {
     "name": "stderr",
     "output_type": "stream",
     "text": [
      "100%|██████████| 884/884 [00:04<00:00, 202.54it/s]\n",
      " 34%|███▍      | 31/91 [00:00<00:00, 309.88it/s]"
     ]
    },
    {
     "name": "stdout",
     "output_type": "stream",
     "text": [
      "in reset\n",
      "in step\n",
      "in take action\n",
      "action=91\n"
     ]
    },
    {
     "name": "stderr",
     "output_type": "stream",
     "text": [
      "100%|██████████| 91/91 [00:00<00:00, 216.18it/s]\n",
      "  3%|▎         | 26/758 [00:00<00:02, 254.07it/s]"
     ]
    },
    {
     "name": "stdout",
     "output_type": "stream",
     "text": [
      "in reset\n",
      "in step\n",
      "in take action\n",
      "action=758\n"
     ]
    },
    {
     "name": "stderr",
     "output_type": "stream",
     "text": [
      "100%|██████████| 758/758 [00:03<00:00, 209.79it/s]\n",
      "  8%|▊         | 33/424 [00:00<00:01, 329.18it/s]"
     ]
    },
    {
     "name": "stdout",
     "output_type": "stream",
     "text": [
      "in reset\n",
      "in step\n",
      "in take action\n",
      "action=424\n"
     ]
    },
    {
     "name": "stderr",
     "output_type": "stream",
     "text": [
      "100%|██████████| 424/424 [00:02<00:00, 207.07it/s]\n",
      " 45%|████▌     | 32/71 [00:00<00:00, 319.34it/s]"
     ]
    },
    {
     "name": "stdout",
     "output_type": "stream",
     "text": [
      "in reset\n",
      "in step\n",
      "in take action\n",
      "action=71\n"
     ]
    },
    {
     "name": "stderr",
     "output_type": "stream",
     "text": [
      "100%|██████████| 71/71 [00:00<00:00, 237.82it/s]\n",
      "100%|██████████| 9/9 [00:00<00:00, 257.37it/s]\n",
      "  4%|▍         | 32/786 [00:00<00:02, 313.34it/s]"
     ]
    },
    {
     "name": "stdout",
     "output_type": "stream",
     "text": [
      "in reset\n",
      "in step\n",
      "in take action\n",
      "action=9\n",
      "in reset\n",
      "in step\n",
      "in take action\n",
      "action=786\n"
     ]
    },
    {
     "name": "stderr",
     "output_type": "stream",
     "text": [
      "100%|██████████| 786/786 [00:03<00:00, 201.83it/s]\n",
      " 11%|█         | 32/294 [00:00<00:00, 306.76it/s]"
     ]
    },
    {
     "name": "stdout",
     "output_type": "stream",
     "text": [
      "in reset\n",
      "in step\n",
      "in take action\n",
      "action=294\n"
     ]
    },
    {
     "name": "stderr",
     "output_type": "stream",
     "text": [
      "100%|██████████| 294/294 [00:01<00:00, 223.63it/s]\n",
      "  6%|▌         | 31/510 [00:00<00:01, 294.47it/s]"
     ]
    },
    {
     "name": "stdout",
     "output_type": "stream",
     "text": [
      "in reset\n",
      "in step\n",
      "in take action\n",
      "action=510\n"
     ]
    },
    {
     "name": "stderr",
     "output_type": "stream",
     "text": [
      "100%|██████████| 510/510 [00:02<00:00, 193.02it/s]\n",
      "100%|██████████| 11/11 [00:00<00:00, 312.00it/s]\n",
      "  9%|▉         | 28/320 [00:00<00:01, 272.11it/s]"
     ]
    },
    {
     "name": "stdout",
     "output_type": "stream",
     "text": [
      "in reset\n",
      "in step\n",
      "in take action\n",
      "action=11\n",
      "in reset\n",
      "in step\n",
      "in take action\n",
      "action=320\n"
     ]
    },
    {
     "name": "stderr",
     "output_type": "stream",
     "text": [
      "100%|██████████| 320/320 [00:01<00:00, 189.12it/s]\n",
      "100%|██████████| 38/38 [00:00<00:00, 318.83it/s]\n",
      "  0%|          | 0/146 [00:00<?, ?it/s]"
     ]
    },
    {
     "name": "stdout",
     "output_type": "stream",
     "text": [
      "in reset\n",
      "in step\n",
      "in take action\n",
      "action=38\n",
      "in reset\n",
      "in step\n",
      "in take action\n",
      "action=146\n"
     ]
    },
    {
     "name": "stderr",
     "output_type": "stream",
     "text": [
      "100%|██████████| 146/146 [00:00<00:00, 247.21it/s]\n",
      "  3%|▎         | 29/910 [00:00<00:03, 276.71it/s]"
     ]
    },
    {
     "name": "stdout",
     "output_type": "stream",
     "text": [
      "in reset\n",
      "in step\n",
      "in take action\n",
      "action=910\n"
     ]
    },
    {
     "name": "stderr",
     "output_type": "stream",
     "text": [
      "100%|██████████| 910/910 [00:04<00:00, 209.63it/s]\n",
      " 18%|█▊        | 33/179 [00:00<00:00, 325.08it/s]"
     ]
    },
    {
     "name": "stdout",
     "output_type": "stream",
     "text": [
      "in reset\n",
      "in step\n",
      "in take action\n",
      "action=179\n"
     ]
    },
    {
     "name": "stderr",
     "output_type": "stream",
     "text": [
      "100%|██████████| 179/179 [00:00<00:00, 205.93it/s]\n",
      "  8%|▊         | 29/343 [00:00<00:01, 281.43it/s]"
     ]
    },
    {
     "name": "stdout",
     "output_type": "stream",
     "text": [
      "in reset\n",
      "in step\n",
      "in take action\n",
      "action=343\n"
     ]
    },
    {
     "name": "stderr",
     "output_type": "stream",
     "text": [
      "100%|██████████| 343/343 [00:01<00:00, 201.19it/s]\n",
      " 10%|█         | 33/318 [00:00<00:00, 321.85it/s]"
     ]
    },
    {
     "name": "stdout",
     "output_type": "stream",
     "text": [
      "in reset\n",
      "in step\n",
      "in take action\n",
      "action=318\n"
     ]
    },
    {
     "name": "stderr",
     "output_type": "stream",
     "text": [
      "100%|██████████| 318/318 [00:01<00:00, 202.26it/s]\n",
      "  7%|▋         | 34/455 [00:00<00:01, 334.48it/s]"
     ]
    },
    {
     "name": "stdout",
     "output_type": "stream",
     "text": [
      "in reset\n",
      "in step\n",
      "in take action\n",
      "action=455\n"
     ]
    },
    {
     "name": "stderr",
     "output_type": "stream",
     "text": [
      "100%|██████████| 455/455 [00:02<00:00, 213.78it/s]\n",
      " 49%|████▊     | 34/70 [00:00<00:00, 339.11it/s]"
     ]
    },
    {
     "name": "stdout",
     "output_type": "stream",
     "text": [
      "in reset\n",
      "in step\n",
      "in take action\n",
      "action=70\n"
     ]
    },
    {
     "name": "stderr",
     "output_type": "stream",
     "text": [
      "100%|██████████| 70/70 [00:00<00:00, 323.87it/s]\n",
      "  2%|▏         | 21/864 [00:00<00:04, 203.41it/s]"
     ]
    },
    {
     "name": "stdout",
     "output_type": "stream",
     "text": [
      "in reset\n",
      "in step\n",
      "in take action\n",
      "action=864\n"
     ]
    },
    {
     "name": "stderr",
     "output_type": "stream",
     "text": [
      "100%|██████████| 864/864 [00:04<00:00, 192.09it/s]\n",
      " 38%|███▊      | 32/84 [00:00<00:00, 310.52it/s]"
     ]
    },
    {
     "name": "stdout",
     "output_type": "stream",
     "text": [
      "in reset\n",
      "in step\n",
      "in take action\n",
      "action=84\n"
     ]
    },
    {
     "name": "stderr",
     "output_type": "stream",
     "text": [
      "100%|██████████| 84/84 [00:00<00:00, 234.35it/s]\n",
      "  8%|▊         | 24/292 [00:00<00:01, 236.51it/s]"
     ]
    },
    {
     "name": "stdout",
     "output_type": "stream",
     "text": [
      "in reset\n",
      "in step\n",
      "in take action\n",
      "action=292\n"
     ]
    },
    {
     "name": "stderr",
     "output_type": "stream",
     "text": [
      "100%|██████████| 292/292 [00:01<00:00, 193.15it/s]\n",
      "100%|██████████| 20/20 [00:00<00:00, 292.13it/s]\n",
      "  2%|▏         | 18/968 [00:00<00:05, 178.38it/s]"
     ]
    },
    {
     "name": "stdout",
     "output_type": "stream",
     "text": [
      "in reset\n",
      "in step\n",
      "in take action\n",
      "action=20\n",
      "in reset\n",
      "in step\n",
      "in take action\n",
      "action=968\n"
     ]
    },
    {
     "name": "stderr",
     "output_type": "stream",
     "text": [
      "100%|██████████| 968/968 [00:05<00:00, 192.93it/s]\n",
      " 13%|█▎        | 33/250 [00:00<00:00, 321.38it/s]"
     ]
    },
    {
     "name": "stdout",
     "output_type": "stream",
     "text": [
      "in reset\n",
      "in step\n",
      "in take action\n",
      "action=250\n"
     ]
    },
    {
     "name": "stderr",
     "output_type": "stream",
     "text": [
      "100%|██████████| 250/250 [00:01<00:00, 196.25it/s]\n",
      "  7%|▋         | 30/419 [00:00<00:01, 288.42it/s]"
     ]
    },
    {
     "name": "stdout",
     "output_type": "stream",
     "text": [
      "in reset\n",
      "in step\n",
      "in take action\n",
      "action=419\n"
     ]
    },
    {
     "name": "stderr",
     "output_type": "stream",
     "text": [
      "100%|██████████| 419/419 [00:01<00:00, 215.62it/s]\n",
      " 13%|█▎        | 29/226 [00:00<00:00, 281.01it/s]"
     ]
    },
    {
     "name": "stdout",
     "output_type": "stream",
     "text": [
      "in reset\n",
      "in step\n",
      "in take action\n",
      "action=226\n"
     ]
    },
    {
     "name": "stderr",
     "output_type": "stream",
     "text": [
      "100%|██████████| 226/226 [00:01<00:00, 199.33it/s]\n",
      " 12%|█▏        | 30/253 [00:00<00:00, 295.00it/s]"
     ]
    },
    {
     "name": "stdout",
     "output_type": "stream",
     "text": [
      "in reset\n",
      "in step\n",
      "in take action\n",
      "action=253\n"
     ]
    },
    {
     "name": "stderr",
     "output_type": "stream",
     "text": [
      "100%|██████████| 253/253 [00:01<00:00, 230.57it/s]\n",
      "  7%|▋         | 28/402 [00:00<00:01, 269.51it/s]"
     ]
    },
    {
     "name": "stdout",
     "output_type": "stream",
     "text": [
      "in reset\n",
      "in step\n",
      "in take action\n",
      "action=402\n"
     ]
    },
    {
     "name": "stderr",
     "output_type": "stream",
     "text": [
      "100%|██████████| 402/402 [00:02<00:00, 192.04it/s]\n",
      "  8%|▊         | 31/394 [00:00<00:01, 298.04it/s]"
     ]
    },
    {
     "name": "stdout",
     "output_type": "stream",
     "text": [
      "in reset\n",
      "in step\n",
      "in take action\n",
      "action=394\n"
     ]
    },
    {
     "name": "stderr",
     "output_type": "stream",
     "text": [
      "100%|██████████| 394/394 [00:01<00:00, 203.29it/s]\n",
      "  5%|▍         | 34/734 [00:00<00:02, 329.19it/s]"
     ]
    },
    {
     "name": "stdout",
     "output_type": "stream",
     "text": [
      "in reset\n",
      "in step\n",
      "in take action\n",
      "action=734\n"
     ]
    },
    {
     "name": "stderr",
     "output_type": "stream",
     "text": [
      "100%|██████████| 734/734 [00:03<00:00, 212.95it/s]\n",
      "  5%|▌         | 32/584 [00:00<00:01, 312.54it/s]"
     ]
    },
    {
     "name": "stdout",
     "output_type": "stream",
     "text": [
      "in reset\n",
      "in step\n",
      "in take action\n",
      "action=584\n"
     ]
    },
    {
     "name": "stderr",
     "output_type": "stream",
     "text": [
      "100%|██████████| 584/584 [00:02<00:00, 204.42it/s]\n",
      "  3%|▎         | 32/972 [00:00<00:03, 311.90it/s]"
     ]
    },
    {
     "name": "stdout",
     "output_type": "stream",
     "text": [
      "in reset\n",
      "in step\n",
      "in take action\n",
      "action=972\n"
     ]
    },
    {
     "name": "stderr",
     "output_type": "stream",
     "text": [
      "100%|██████████| 972/972 [00:04<00:00, 207.43it/s]\n",
      "  5%|▌         | 33/658 [00:00<00:01, 329.56it/s]"
     ]
    },
    {
     "name": "stdout",
     "output_type": "stream",
     "text": [
      "in reset\n",
      "in step\n",
      "in take action\n",
      "action=658\n"
     ]
    },
    {
     "name": "stderr",
     "output_type": "stream",
     "text": [
      "100%|██████████| 658/658 [00:03<00:00, 198.65it/s]\n",
      " 17%|█▋        | 35/209 [00:00<00:00, 344.58it/s]"
     ]
    },
    {
     "name": "stdout",
     "output_type": "stream",
     "text": [
      "in reset\n",
      "in step\n",
      "in take action\n",
      "action=209\n"
     ]
    },
    {
     "name": "stderr",
     "output_type": "stream",
     "text": [
      "100%|██████████| 209/209 [00:00<00:00, 213.26it/s]\n",
      " 38%|███▊      | 31/81 [00:00<00:00, 305.63it/s]"
     ]
    },
    {
     "name": "stdout",
     "output_type": "stream",
     "text": [
      "in reset\n",
      "in step\n",
      "in take action\n",
      "action=81\n"
     ]
    },
    {
     "name": "stderr",
     "output_type": "stream",
     "text": [
      "100%|██████████| 81/81 [00:00<00:00, 258.36it/s]\n",
      "  3%|▎         | 26/829 [00:00<00:03, 256.48it/s]"
     ]
    },
    {
     "name": "stdout",
     "output_type": "stream",
     "text": [
      "in reset\n",
      "in step\n",
      "in take action\n",
      "action=829\n"
     ]
    },
    {
     "name": "stderr",
     "output_type": "stream",
     "text": [
      "100%|██████████| 829/829 [00:03<00:00, 271.96it/s]\n",
      "  5%|▍         | 33/717 [00:00<00:02, 325.86it/s]"
     ]
    },
    {
     "name": "stdout",
     "output_type": "stream",
     "text": [
      "in reset\n",
      "in step\n",
      "in take action\n",
      "action=717\n"
     ]
    },
    {
     "name": "stderr",
     "output_type": "stream",
     "text": [
      "100%|██████████| 717/717 [00:02<00:00, 257.17it/s]\n",
      "  9%|▊         | 35/401 [00:00<00:01, 338.47it/s]"
     ]
    },
    {
     "name": "stdout",
     "output_type": "stream",
     "text": [
      "in reset\n",
      "in step\n",
      "in take action\n",
      "action=401\n"
     ]
    },
    {
     "name": "stderr",
     "output_type": "stream",
     "text": [
      "100%|██████████| 401/401 [00:02<00:00, 193.98it/s]\n",
      "  4%|▎         | 32/899 [00:00<00:02, 318.11it/s]"
     ]
    },
    {
     "name": "stdout",
     "output_type": "stream",
     "text": [
      "in reset\n",
      "in step\n",
      "in take action\n",
      "action=899\n"
     ]
    },
    {
     "name": "stderr",
     "output_type": "stream",
     "text": [
      "100%|██████████| 899/899 [00:04<00:00, 201.06it/s]\n",
      "100%|██████████| 35/35 [00:00<00:00, 306.55it/s]\n",
      "  0%|          | 0/921 [00:00<?, ?it/s]"
     ]
    },
    {
     "name": "stdout",
     "output_type": "stream",
     "text": [
      "in reset\n",
      "in step\n",
      "in take action\n",
      "action=35\n",
      "in reset\n",
      "in step\n",
      "in take action\n",
      "action=921\n"
     ]
    },
    {
     "name": "stderr",
     "output_type": "stream",
     "text": [
      "100%|██████████| 921/921 [00:04<00:00, 206.98it/s]\n",
      "  4%|▍         | 34/759 [00:00<00:02, 338.19it/s]"
     ]
    },
    {
     "name": "stdout",
     "output_type": "stream",
     "text": [
      "in reset\n",
      "in step\n",
      "in take action\n",
      "action=759\n"
     ]
    },
    {
     "name": "stderr",
     "output_type": "stream",
     "text": [
      "100%|██████████| 759/759 [00:03<00:00, 213.68it/s]\n",
      "  4%|▎         | 32/879 [00:00<00:02, 319.01it/s]"
     ]
    },
    {
     "name": "stdout",
     "output_type": "stream",
     "text": [
      "in reset\n",
      "in step\n",
      "in take action\n",
      "action=879\n"
     ]
    },
    {
     "name": "stderr",
     "output_type": "stream",
     "text": [
      "100%|██████████| 879/879 [00:04<00:00, 191.82it/s]\n",
      " 43%|████▎     | 33/76 [00:00<00:00, 322.53it/s]"
     ]
    },
    {
     "name": "stdout",
     "output_type": "stream",
     "text": [
      "in reset\n",
      "in step\n",
      "in take action\n",
      "action=76\n"
     ]
    },
    {
     "name": "stderr",
     "output_type": "stream",
     "text": [
      "100%|██████████| 76/76 [00:00<00:00, 225.95it/s]\n",
      "  2%|▏         | 18/937 [00:00<00:05, 177.82it/s]"
     ]
    },
    {
     "name": "stdout",
     "output_type": "stream",
     "text": [
      "in reset\n",
      "in step\n",
      "in take action\n",
      "action=937\n"
     ]
    },
    {
     "name": "stderr",
     "output_type": "stream",
     "text": [
      "100%|██████████| 937/937 [00:04<00:00, 216.88it/s]\n",
      " 14%|█▍        | 35/250 [00:00<00:00, 343.36it/s]"
     ]
    },
    {
     "name": "stdout",
     "output_type": "stream",
     "text": [
      "in reset\n",
      "in step\n",
      "in take action\n",
      "action=250\n"
     ]
    },
    {
     "name": "stderr",
     "output_type": "stream",
     "text": [
      "100%|██████████| 250/250 [00:01<00:00, 212.80it/s]\n",
      "  7%|▋         | 31/441 [00:00<00:01, 299.69it/s]"
     ]
    },
    {
     "name": "stdout",
     "output_type": "stream",
     "text": [
      "in reset\n",
      "in step\n",
      "in take action\n",
      "action=441\n"
     ]
    },
    {
     "name": "stderr",
     "output_type": "stream",
     "text": [
      "100%|██████████| 441/441 [00:02<00:00, 212.41it/s]\n",
      "  6%|▌         | 33/574 [00:00<00:01, 327.45it/s]"
     ]
    },
    {
     "name": "stdout",
     "output_type": "stream",
     "text": [
      "in reset\n",
      "in step\n",
      "in take action\n",
      "action=574\n"
     ]
    },
    {
     "name": "stderr",
     "output_type": "stream",
     "text": [
      "100%|██████████| 574/574 [00:02<00:00, 211.20it/s]\n",
      " 51%|█████     | 34/67 [00:00<00:00, 337.08it/s]"
     ]
    },
    {
     "name": "stdout",
     "output_type": "stream",
     "text": [
      "in reset\n",
      "in step\n",
      "in take action\n",
      "action=67\n"
     ]
    },
    {
     "name": "stderr",
     "output_type": "stream",
     "text": [
      "100%|██████████| 67/67 [00:00<00:00, 258.88it/s]\n",
      "  4%|▍         | 26/636 [00:00<00:02, 250.41it/s]"
     ]
    },
    {
     "name": "stdout",
     "output_type": "stream",
     "text": [
      "in reset\n",
      "in step\n",
      "in take action\n",
      "action=636\n"
     ]
    },
    {
     "name": "stderr",
     "output_type": "stream",
     "text": [
      "100%|██████████| 636/636 [00:03<00:00, 208.58it/s]\n",
      " 10%|█         | 31/300 [00:00<00:00, 298.38it/s]"
     ]
    },
    {
     "name": "stdout",
     "output_type": "stream",
     "text": [
      "in reset\n",
      "in step\n",
      "in take action\n",
      "action=300\n"
     ]
    },
    {
     "name": "stderr",
     "output_type": "stream",
     "text": [
      "100%|██████████| 300/300 [00:01<00:00, 224.79it/s]\n",
      "  8%|▊         | 26/307 [00:00<00:01, 253.29it/s]"
     ]
    },
    {
     "name": "stdout",
     "output_type": "stream",
     "text": [
      "in reset\n",
      "in step\n",
      "in take action\n",
      "action=307\n"
     ]
    },
    {
     "name": "stderr",
     "output_type": "stream",
     "text": [
      "100%|██████████| 307/307 [00:01<00:00, 230.79it/s]\n",
      " 27%|██▋       | 34/125 [00:00<00:00, 339.36it/s]"
     ]
    },
    {
     "name": "stdout",
     "output_type": "stream",
     "text": [
      "in reset\n",
      "in step\n",
      "in take action\n",
      "action=125\n"
     ]
    },
    {
     "name": "stderr",
     "output_type": "stream",
     "text": [
      "100%|██████████| 125/125 [00:00<00:00, 249.75it/s]\n",
      "  7%|▋         | 23/325 [00:00<00:01, 227.80it/s]"
     ]
    },
    {
     "name": "stdout",
     "output_type": "stream",
     "text": [
      "in reset\n",
      "in step\n",
      "in take action\n",
      "action=325\n"
     ]
    },
    {
     "name": "stderr",
     "output_type": "stream",
     "text": [
      "100%|██████████| 325/325 [00:01<00:00, 198.67it/s]\n",
      " 25%|██▌       | 32/126 [00:00<00:00, 319.83it/s]"
     ]
    },
    {
     "name": "stdout",
     "output_type": "stream",
     "text": [
      "in reset\n",
      "in step\n",
      "in take action\n",
      "action=126\n"
     ]
    },
    {
     "name": "stderr",
     "output_type": "stream",
     "text": [
      "100%|██████████| 126/126 [00:00<00:00, 224.45it/s]\n",
      "  5%|▌         | 31/597 [00:00<00:01, 308.14it/s]"
     ]
    },
    {
     "name": "stdout",
     "output_type": "stream",
     "text": [
      "in reset\n",
      "in step\n",
      "in take action\n",
      "action=597\n"
     ]
    },
    {
     "name": "stderr",
     "output_type": "stream",
     "text": [
      "100%|██████████| 597/597 [00:02<00:00, 204.42it/s]\n",
      "  5%|▍         | 34/755 [00:00<00:02, 331.04it/s]"
     ]
    },
    {
     "name": "stdout",
     "output_type": "stream",
     "text": [
      "in reset\n",
      "in step\n",
      "in take action\n",
      "action=755\n"
     ]
    },
    {
     "name": "stderr",
     "output_type": "stream",
     "text": [
      "100%|██████████| 755/755 [00:03<00:00, 222.66it/s]\n",
      "  4%|▎         | 33/882 [00:00<00:02, 322.14it/s]"
     ]
    },
    {
     "name": "stdout",
     "output_type": "stream",
     "text": [
      "in reset\n",
      "in step\n",
      "in take action\n",
      "action=882\n"
     ]
    },
    {
     "name": "stderr",
     "output_type": "stream",
     "text": [
      "100%|██████████| 882/882 [00:03<00:00, 231.63it/s]\n",
      "  4%|▍         | 33/820 [00:00<00:02, 326.05it/s]"
     ]
    },
    {
     "name": "stdout",
     "output_type": "stream",
     "text": [
      "in reset\n",
      "in step\n",
      "in take action\n",
      "action=820\n"
     ]
    },
    {
     "name": "stderr",
     "output_type": "stream",
     "text": [
      "100%|██████████| 820/820 [00:03<00:00, 212.19it/s]\n",
      "  6%|▌         | 33/554 [00:00<00:01, 321.41it/s]"
     ]
    },
    {
     "name": "stdout",
     "output_type": "stream",
     "text": [
      "in reset\n",
      "in step\n",
      "in take action\n",
      "action=554\n"
     ]
    },
    {
     "name": "stderr",
     "output_type": "stream",
     "text": [
      "100%|██████████| 554/554 [00:02<00:00, 200.35it/s]\n",
      "  3%|▎         | 29/964 [00:00<00:03, 286.92it/s]"
     ]
    },
    {
     "name": "stdout",
     "output_type": "stream",
     "text": [
      "in reset\n",
      "in step\n",
      "in take action\n",
      "action=964\n"
     ]
    },
    {
     "name": "stderr",
     "output_type": "stream",
     "text": [
      "100%|██████████| 964/964 [00:04<00:00, 198.77it/s]\n",
      "  7%|▋         | 32/476 [00:00<00:01, 313.14it/s]"
     ]
    },
    {
     "name": "stdout",
     "output_type": "stream",
     "text": [
      "in reset\n",
      "in step\n",
      "in take action\n",
      "action=476\n"
     ]
    },
    {
     "name": "stderr",
     "output_type": "stream",
     "text": [
      "100%|██████████| 476/476 [00:02<00:00, 199.65it/s]\n",
      "  3%|▎         | 32/942 [00:00<00:02, 317.52it/s]"
     ]
    },
    {
     "name": "stdout",
     "output_type": "stream",
     "text": [
      "in reset\n",
      "in step\n",
      "in take action\n",
      "action=942\n"
     ]
    },
    {
     "name": "stderr",
     "output_type": "stream",
     "text": [
      "100%|██████████| 942/942 [00:04<00:00, 216.59it/s]\n",
      "  9%|▊         | 33/380 [00:00<00:01, 326.08it/s]"
     ]
    },
    {
     "name": "stdout",
     "output_type": "stream",
     "text": [
      "in reset\n",
      "in step\n",
      "in take action\n",
      "action=380\n"
     ]
    },
    {
     "name": "stderr",
     "output_type": "stream",
     "text": [
      "100%|██████████| 380/380 [00:01<00:00, 211.85it/s]\n",
      "100%|██████████| 36/36 [00:00<00:00, 311.06it/s]\n",
      "  0%|          | 0/64 [00:00<?, ?it/s]"
     ]
    },
    {
     "name": "stdout",
     "output_type": "stream",
     "text": [
      "in reset\n",
      "in step\n",
      "in take action\n",
      "action=36\n",
      "in reset\n",
      "in step\n",
      "in take action\n",
      "action=64\n"
     ]
    },
    {
     "name": "stderr",
     "output_type": "stream",
     "text": [
      "100%|██████████| 64/64 [00:00<00:00, 233.92it/s]\n",
      "  4%|▍         | 25/638 [00:00<00:02, 244.18it/s]"
     ]
    },
    {
     "name": "stdout",
     "output_type": "stream",
     "text": [
      "in reset\n",
      "in step\n",
      "in take action\n",
      "action=638\n"
     ]
    },
    {
     "name": "stderr",
     "output_type": "stream",
     "text": [
      "100%|██████████| 638/638 [00:03<00:00, 201.82it/s]\n",
      "  6%|▌         | 33/542 [00:00<00:01, 323.48it/s]"
     ]
    },
    {
     "name": "stdout",
     "output_type": "stream",
     "text": [
      "in reset\n",
      "in step\n",
      "in take action\n",
      "action=542\n"
     ]
    },
    {
     "name": "stderr",
     "output_type": "stream",
     "text": [
      "100%|██████████| 542/542 [00:02<00:00, 191.61it/s]\n",
      "  7%|▋         | 33/470 [00:00<00:01, 319.46it/s]"
     ]
    },
    {
     "name": "stdout",
     "output_type": "stream",
     "text": [
      "in reset\n",
      "in step\n",
      "in take action\n",
      "action=470\n"
     ]
    },
    {
     "name": "stderr",
     "output_type": "stream",
     "text": [
      "100%|██████████| 470/470 [00:02<00:00, 199.61it/s]\n",
      "  4%|▍         | 35/877 [00:00<00:02, 340.89it/s]"
     ]
    },
    {
     "name": "stdout",
     "output_type": "stream",
     "text": [
      "in reset\n",
      "in step\n",
      "in take action\n",
      "action=877\n"
     ]
    },
    {
     "name": "stderr",
     "output_type": "stream",
     "text": [
      "100%|██████████| 877/877 [00:04<00:00, 211.96it/s]\n",
      " 10%|▉         | 34/356 [00:00<00:00, 332.75it/s]"
     ]
    },
    {
     "name": "stdout",
     "output_type": "stream",
     "text": [
      "in reset\n",
      "in step\n",
      "in take action\n",
      "action=356\n"
     ]
    },
    {
     "name": "stderr",
     "output_type": "stream",
     "text": [
      "100%|██████████| 356/356 [00:01<00:00, 212.90it/s]\n",
      "  4%|▍         | 31/817 [00:00<00:02, 301.28it/s]"
     ]
    },
    {
     "name": "stdout",
     "output_type": "stream",
     "text": [
      "in reset\n",
      "in step\n",
      "in take action\n",
      "action=817\n"
     ]
    },
    {
     "name": "stderr",
     "output_type": "stream",
     "text": [
      "100%|██████████| 817/817 [00:03<00:00, 241.28it/s]\n",
      "100%|██████████| 23/23 [00:00<00:00, 337.66it/s]\n"
     ]
    },
    {
     "name": "stdout",
     "output_type": "stream",
     "text": [
      "in reset\n",
      "in step\n",
      "in take action\n",
      "action=23\n",
      "in reset\n",
      "-------------------------------------\n",
      "| approxkl           | 0.0001616652 |\n",
      "| clipfrac           | 0.0          |\n",
      "| explained_variance | -0.429       |\n",
      "| fps                | 0            |\n",
      "| n_updates          | 1            |\n",
      "| policy_entropy     | 6.9067335    |\n",
      "| policy_loss        | -0.005053305 |\n",
      "| serial_timesteps   | 128          |\n",
      "| time_elapsed       | 1.43e-06     |\n",
      "| total_timesteps    | 128          |\n",
      "| value_loss         | 497466.88    |\n",
      "-------------------------------------\n"
     ]
    },
    {
     "name": "stderr",
     "output_type": "stream",
     "text": [
      "  4%|▍         | 31/823 [00:00<00:02, 308.55it/s]"
     ]
    },
    {
     "name": "stdout",
     "output_type": "stream",
     "text": [
      "in step\n",
      "in take action\n",
      "action=823\n"
     ]
    },
    {
     "name": "stderr",
     "output_type": "stream",
     "text": [
      "100%|██████████| 823/823 [00:03<00:00, 217.19it/s]\n",
      "  6%|▌         | 32/571 [00:00<00:01, 311.32it/s]"
     ]
    },
    {
     "name": "stdout",
     "output_type": "stream",
     "text": [
      "in reset\n",
      "in step\n",
      "in take action\n",
      "action=571\n"
     ]
    },
    {
     "name": "stderr",
     "output_type": "stream",
     "text": [
      "100%|██████████| 571/571 [00:02<00:00, 215.33it/s]\n",
      " 18%|█▊        | 29/157 [00:00<00:00, 287.29it/s]"
     ]
    },
    {
     "name": "stdout",
     "output_type": "stream",
     "text": [
      "in reset\n",
      "in step\n",
      "in take action\n",
      "action=157\n"
     ]
    },
    {
     "name": "stderr",
     "output_type": "stream",
     "text": [
      "100%|██████████| 157/157 [00:00<00:00, 230.61it/s]\n",
      "  4%|▍         | 22/575 [00:00<00:02, 209.72it/s]"
     ]
    },
    {
     "name": "stdout",
     "output_type": "stream",
     "text": [
      "in reset\n",
      "in step\n",
      "in take action\n",
      "action=575\n"
     ]
    },
    {
     "name": "stderr",
     "output_type": "stream",
     "text": [
      "100%|██████████| 575/575 [00:02<00:00, 212.07it/s]\n",
      "  7%|▋         | 32/447 [00:00<00:01, 310.79it/s]"
     ]
    },
    {
     "name": "stdout",
     "output_type": "stream",
     "text": [
      "in reset\n",
      "in step\n",
      "in take action\n",
      "action=447\n"
     ]
    },
    {
     "name": "stderr",
     "output_type": "stream",
     "text": [
      "100%|██████████| 447/447 [00:02<00:00, 209.05it/s]\n",
      "  3%|▎         | 29/847 [00:00<00:02, 288.72it/s]"
     ]
    },
    {
     "name": "stdout",
     "output_type": "stream",
     "text": [
      "in reset\n",
      "in step\n",
      "in take action\n",
      "action=847\n"
     ]
    },
    {
     "name": "stderr",
     "output_type": "stream",
     "text": [
      "100%|██████████| 847/847 [00:04<00:00, 198.18it/s]\n",
      "  5%|▌         | 34/658 [00:00<00:01, 330.49it/s]"
     ]
    },
    {
     "name": "stdout",
     "output_type": "stream",
     "text": [
      "in reset\n",
      "in step\n",
      "in take action\n",
      "action=658\n"
     ]
    },
    {
     "name": "stderr",
     "output_type": "stream",
     "text": [
      "100%|██████████| 658/658 [00:03<00:00, 195.68it/s]\n",
      " 12%|█▏        | 34/274 [00:00<00:00, 331.32it/s]"
     ]
    },
    {
     "name": "stdout",
     "output_type": "stream",
     "text": [
      "in reset\n",
      "in step\n",
      "in take action\n",
      "action=274\n"
     ]
    },
    {
     "name": "stderr",
     "output_type": "stream",
     "text": [
      "100%|██████████| 274/274 [00:01<00:00, 234.58it/s]\n",
      " 20%|██        | 30/149 [00:00<00:00, 291.09it/s]"
     ]
    },
    {
     "name": "stdout",
     "output_type": "stream",
     "text": [
      "in reset\n",
      "in step\n",
      "in take action\n",
      "action=149\n"
     ]
    },
    {
     "name": "stderr",
     "output_type": "stream",
     "text": [
      "100%|██████████| 149/149 [00:00<00:00, 197.64it/s]\n",
      "  3%|▎         | 29/836 [00:00<00:02, 280.84it/s]"
     ]
    },
    {
     "name": "stdout",
     "output_type": "stream",
     "text": [
      "in reset\n",
      "in step\n",
      "in take action\n",
      "action=836\n"
     ]
    },
    {
     "name": "stderr",
     "output_type": "stream",
     "text": [
      "100%|██████████| 836/836 [00:04<00:00, 208.03it/s]\n",
      "  4%|▍         | 34/786 [00:00<00:02, 335.66it/s]"
     ]
    },
    {
     "name": "stdout",
     "output_type": "stream",
     "text": [
      "in reset\n",
      "in step\n",
      "in take action\n",
      "action=786\n"
     ]
    },
    {
     "name": "stderr",
     "output_type": "stream",
     "text": [
      "100%|██████████| 786/786 [00:03<00:00, 214.27it/s]\n",
      "  9%|▊         | 32/376 [00:00<00:01, 317.28it/s]"
     ]
    },
    {
     "name": "stdout",
     "output_type": "stream",
     "text": [
      "in reset\n",
      "in step\n",
      "in take action\n",
      "action=376\n"
     ]
    },
    {
     "name": "stderr",
     "output_type": "stream",
     "text": [
      "100%|██████████| 376/376 [00:01<00:00, 224.43it/s]\n",
      "  4%|▎         | 32/877 [00:00<00:02, 311.08it/s]"
     ]
    },
    {
     "name": "stdout",
     "output_type": "stream",
     "text": [
      "in reset\n",
      "in step\n",
      "in take action\n",
      "action=877\n"
     ]
    },
    {
     "name": "stderr",
     "output_type": "stream",
     "text": [
      "100%|██████████| 877/877 [00:04<00:00, 207.81it/s]\n",
      " 28%|██▊       | 34/122 [00:00<00:00, 334.76it/s]"
     ]
    },
    {
     "name": "stdout",
     "output_type": "stream",
     "text": [
      "in reset\n",
      "in step\n",
      "in take action\n",
      "action=122\n"
     ]
    },
    {
     "name": "stderr",
     "output_type": "stream",
     "text": [
      "100%|██████████| 122/122 [00:00<00:00, 256.96it/s]\n",
      " 10%|█         | 25/244 [00:00<00:00, 242.13it/s]"
     ]
    },
    {
     "name": "stdout",
     "output_type": "stream",
     "text": [
      "in reset\n",
      "in step\n",
      "in take action\n",
      "action=244\n"
     ]
    },
    {
     "name": "stderr",
     "output_type": "stream",
     "text": [
      "100%|██████████| 244/244 [00:01<00:00, 207.08it/s]\n",
      " 51%|█████     | 29/57 [00:00<00:00, 284.88it/s]"
     ]
    },
    {
     "name": "stdout",
     "output_type": "stream",
     "text": [
      "in reset\n",
      "in step\n",
      "in take action\n",
      "action=57\n"
     ]
    },
    {
     "name": "stderr",
     "output_type": "stream",
     "text": [
      "100%|██████████| 57/57 [00:00<00:00, 216.13it/s]\n",
      "  5%|▌         | 30/546 [00:00<00:01, 289.26it/s]"
     ]
    },
    {
     "name": "stdout",
     "output_type": "stream",
     "text": [
      "in reset\n",
      "in step\n",
      "in take action\n",
      "action=546\n"
     ]
    },
    {
     "name": "stderr",
     "output_type": "stream",
     "text": [
      "100%|██████████| 546/546 [00:02<00:00, 190.15it/s]\n",
      "  5%|▍         | 33/729 [00:00<00:02, 323.57it/s]"
     ]
    },
    {
     "name": "stdout",
     "output_type": "stream",
     "text": [
      "in reset\n",
      "in step\n",
      "in take action\n",
      "action=729\n"
     ]
    },
    {
     "name": "stderr",
     "output_type": "stream",
     "text": [
      "100%|██████████| 729/729 [00:03<00:00, 205.01it/s]\n",
      " 12%|█▏        | 32/268 [00:00<00:00, 318.64it/s]"
     ]
    },
    {
     "name": "stdout",
     "output_type": "stream",
     "text": [
      "in reset\n",
      "in step\n",
      "in take action\n",
      "action=268\n"
     ]
    },
    {
     "name": "stderr",
     "output_type": "stream",
     "text": [
      "100%|██████████| 268/268 [00:01<00:00, 242.47it/s]\n",
      "  4%|▎         | 33/887 [00:00<00:02, 323.43it/s]"
     ]
    },
    {
     "name": "stdout",
     "output_type": "stream",
     "text": [
      "in reset\n",
      "in step\n",
      "in take action\n",
      "action=887\n"
     ]
    },
    {
     "name": "stderr",
     "output_type": "stream",
     "text": [
      "100%|██████████| 887/887 [00:04<00:00, 213.93it/s]\n",
      "  5%|▌         | 32/589 [00:00<00:01, 312.01it/s]"
     ]
    },
    {
     "name": "stdout",
     "output_type": "stream",
     "text": [
      "in reset\n",
      "in step\n",
      "in take action\n",
      "action=589\n"
     ]
    },
    {
     "name": "stderr",
     "output_type": "stream",
     "text": [
      "100%|██████████| 589/589 [00:02<00:00, 228.98it/s]\n",
      "  9%|▉         | 31/354 [00:00<00:01, 298.36it/s]"
     ]
    },
    {
     "name": "stdout",
     "output_type": "stream",
     "text": [
      "in reset\n",
      "in step\n",
      "in take action\n",
      "action=354\n"
     ]
    },
    {
     "name": "stderr",
     "output_type": "stream",
     "text": [
      "100%|██████████| 354/354 [00:01<00:00, 221.65it/s]\n",
      "  7%|▋         | 30/401 [00:00<00:01, 287.56it/s]"
     ]
    },
    {
     "name": "stdout",
     "output_type": "stream",
     "text": [
      "in reset\n",
      "in step\n",
      "in take action\n",
      "action=401\n"
     ]
    },
    {
     "name": "stderr",
     "output_type": "stream",
     "text": [
      "100%|██████████| 401/401 [00:02<00:00, 197.36it/s]\n",
      "  6%|▋         | 32/493 [00:00<00:01, 310.93it/s]"
     ]
    },
    {
     "name": "stdout",
     "output_type": "stream",
     "text": [
      "in reset\n",
      "in step\n",
      "in take action\n",
      "action=493\n"
     ]
    },
    {
     "name": "stderr",
     "output_type": "stream",
     "text": [
      "100%|██████████| 493/493 [00:02<00:00, 212.90it/s]\n",
      "  9%|▊         | 30/351 [00:00<00:01, 298.45it/s]"
     ]
    },
    {
     "name": "stdout",
     "output_type": "stream",
     "text": [
      "in reset\n",
      "in step\n",
      "in take action\n",
      "action=351\n"
     ]
    },
    {
     "name": "stderr",
     "output_type": "stream",
     "text": [
      "100%|██████████| 351/351 [00:01<00:00, 231.80it/s]\n",
      "  9%|▉         | 27/299 [00:00<00:01, 264.07it/s]"
     ]
    },
    {
     "name": "stdout",
     "output_type": "stream",
     "text": [
      "in reset\n",
      "in step\n",
      "in take action\n",
      "action=299\n"
     ]
    },
    {
     "name": "stderr",
     "output_type": "stream",
     "text": [
      "100%|██████████| 299/299 [00:01<00:00, 229.12it/s]\n",
      "  4%|▍         | 32/776 [00:00<00:02, 312.95it/s]"
     ]
    },
    {
     "name": "stdout",
     "output_type": "stream",
     "text": [
      "in reset\n",
      "in step\n",
      "in take action\n",
      "action=776\n"
     ]
    },
    {
     "name": "stderr",
     "output_type": "stream",
     "text": [
      "100%|██████████| 776/776 [00:03<00:00, 203.65it/s]\n",
      "  4%|▍         | 29/769 [00:00<00:02, 286.37it/s]"
     ]
    },
    {
     "name": "stdout",
     "output_type": "stream",
     "text": [
      "in reset\n",
      "in step\n",
      "in take action\n",
      "action=769\n"
     ]
    },
    {
     "name": "stderr",
     "output_type": "stream",
     "text": [
      "100%|██████████| 769/769 [00:03<00:00, 212.59it/s]\n",
      "  3%|▎         | 34/980 [00:00<00:02, 339.18it/s]"
     ]
    },
    {
     "name": "stdout",
     "output_type": "stream",
     "text": [
      "in reset\n",
      "in step\n",
      "in take action\n",
      "action=980\n"
     ]
    },
    {
     "name": "stderr",
     "output_type": "stream",
     "text": [
      "100%|██████████| 980/980 [00:04<00:00, 205.10it/s]\n",
      " 18%|█▊        | 34/187 [00:00<00:00, 336.79it/s]"
     ]
    },
    {
     "name": "stdout",
     "output_type": "stream",
     "text": [
      "in reset\n",
      "in step\n",
      "in take action\n",
      "action=187\n"
     ]
    },
    {
     "name": "stderr",
     "output_type": "stream",
     "text": [
      "100%|██████████| 187/187 [00:00<00:00, 270.78it/s]\n",
      "  4%|▍         | 28/707 [00:00<00:02, 276.27it/s]"
     ]
    },
    {
     "name": "stdout",
     "output_type": "stream",
     "text": [
      "in reset\n",
      "in step\n",
      "in take action\n",
      "action=707\n"
     ]
    },
    {
     "name": "stderr",
     "output_type": "stream",
     "text": [
      "100%|██████████| 707/707 [00:03<00:00, 221.06it/s]\n",
      "  3%|▎         | 33/972 [00:00<00:02, 322.83it/s]"
     ]
    },
    {
     "name": "stdout",
     "output_type": "stream",
     "text": [
      "in reset\n",
      "in step\n",
      "in take action\n",
      "action=972\n"
     ]
    },
    {
     "name": "stderr",
     "output_type": "stream",
     "text": [
      "100%|██████████| 972/972 [00:04<00:00, 216.95it/s]\n",
      " 16%|█▋        | 32/195 [00:00<00:00, 314.68it/s]"
     ]
    },
    {
     "name": "stdout",
     "output_type": "stream",
     "text": [
      "in reset\n",
      "in step\n",
      "in take action\n",
      "action=195\n"
     ]
    },
    {
     "name": "stderr",
     "output_type": "stream",
     "text": [
      "100%|██████████| 195/195 [00:00<00:00, 248.92it/s]\n",
      "  4%|▍         | 26/653 [00:00<00:02, 259.82it/s]"
     ]
    },
    {
     "name": "stdout",
     "output_type": "stream",
     "text": [
      "in reset\n",
      "in step\n",
      "in take action\n",
      "action=653\n"
     ]
    },
    {
     "name": "stderr",
     "output_type": "stream",
     "text": [
      "100%|██████████| 653/653 [00:02<00:00, 226.07it/s]\n",
      "100%|██████████| 6/6 [00:00<00:00, 295.07it/s]\n",
      "  3%|▎         | 32/944 [00:00<00:02, 310.04it/s]"
     ]
    },
    {
     "name": "stdout",
     "output_type": "stream",
     "text": [
      "in reset\n",
      "in step\n",
      "in take action\n",
      "action=6\n",
      "in reset\n",
      "in step\n",
      "in take action\n",
      "action=944\n"
     ]
    },
    {
     "name": "stderr",
     "output_type": "stream",
     "text": [
      "100%|██████████| 944/944 [00:04<00:00, 201.79it/s]\n",
      "  7%|▋         | 32/473 [00:00<00:01, 312.81it/s]"
     ]
    },
    {
     "name": "stdout",
     "output_type": "stream",
     "text": [
      "in reset\n",
      "in step\n",
      "in take action\n",
      "action=473\n"
     ]
    },
    {
     "name": "stderr",
     "output_type": "stream",
     "text": [
      "100%|██████████| 473/473 [00:02<00:00, 202.45it/s]\n",
      " 14%|█▍        | 34/244 [00:00<00:00, 330.42it/s]"
     ]
    },
    {
     "name": "stdout",
     "output_type": "stream",
     "text": [
      "in reset\n",
      "in step\n",
      "in take action\n",
      "action=244\n"
     ]
    },
    {
     "name": "stderr",
     "output_type": "stream",
     "text": [
      "100%|██████████| 244/244 [00:01<00:00, 235.27it/s]\n",
      "  8%|▊         | 34/427 [00:00<00:01, 332.23it/s]"
     ]
    },
    {
     "name": "stdout",
     "output_type": "stream",
     "text": [
      "in reset\n",
      "in step\n",
      "in take action\n",
      "action=427\n"
     ]
    },
    {
     "name": "stderr",
     "output_type": "stream",
     "text": [
      "100%|██████████| 427/427 [00:01<00:00, 213.55it/s]\n",
      " 40%|███▉      | 33/83 [00:00<00:00, 328.98it/s]"
     ]
    },
    {
     "name": "stdout",
     "output_type": "stream",
     "text": [
      "in reset\n",
      "in step\n",
      "in take action\n",
      "action=83\n"
     ]
    },
    {
     "name": "stderr",
     "output_type": "stream",
     "text": [
      "100%|██████████| 83/83 [00:00<00:00, 244.37it/s]\n",
      " 37%|███▋      | 29/79 [00:00<00:00, 286.03it/s]"
     ]
    },
    {
     "name": "stdout",
     "output_type": "stream",
     "text": [
      "in reset\n",
      "in step\n",
      "in take action\n",
      "action=79\n"
     ]
    },
    {
     "name": "stderr",
     "output_type": "stream",
     "text": [
      "100%|██████████| 79/79 [00:00<00:00, 265.25it/s]\n",
      "  4%|▍         | 31/781 [00:00<00:02, 303.62it/s]"
     ]
    },
    {
     "name": "stdout",
     "output_type": "stream",
     "text": [
      "in reset\n",
      "in step\n",
      "in take action\n",
      "action=781\n"
     ]
    },
    {
     "name": "stderr",
     "output_type": "stream",
     "text": [
      "100%|██████████| 781/781 [00:04<00:00, 189.42it/s]\n",
      "  6%|▌         | 32/521 [00:00<00:01, 314.24it/s]"
     ]
    },
    {
     "name": "stdout",
     "output_type": "stream",
     "text": [
      "in reset\n",
      "in step\n",
      "in take action\n",
      "action=521\n"
     ]
    },
    {
     "name": "stderr",
     "output_type": "stream",
     "text": [
      "100%|██████████| 521/521 [00:02<00:00, 196.79it/s]\n",
      "  4%|▎         | 33/901 [00:00<00:02, 323.07it/s]"
     ]
    },
    {
     "name": "stdout",
     "output_type": "stream",
     "text": [
      "in reset\n",
      "in step\n",
      "in take action\n",
      "action=901\n"
     ]
    },
    {
     "name": "stderr",
     "output_type": "stream",
     "text": [
      "100%|██████████| 901/901 [00:04<00:00, 209.45it/s]\n",
      "  5%|▍         | 31/640 [00:00<00:02, 301.07it/s]"
     ]
    },
    {
     "name": "stdout",
     "output_type": "stream",
     "text": [
      "in reset\n",
      "in step\n",
      "in take action\n",
      "action=640\n"
     ]
    },
    {
     "name": "stderr",
     "output_type": "stream",
     "text": [
      "100%|██████████| 640/640 [00:03<00:00, 197.91it/s]\n",
      "  4%|▎         | 33/942 [00:00<00:02, 318.71it/s]"
     ]
    },
    {
     "name": "stdout",
     "output_type": "stream",
     "text": [
      "in reset\n",
      "in step\n",
      "in take action\n",
      "action=942\n"
     ]
    },
    {
     "name": "stderr",
     "output_type": "stream",
     "text": [
      "100%|██████████| 942/942 [00:04<00:00, 214.14it/s]\n",
      "  6%|▌         | 32/513 [00:00<00:01, 317.18it/s]"
     ]
    },
    {
     "name": "stdout",
     "output_type": "stream",
     "text": [
      "in reset\n",
      "in step\n",
      "in take action\n",
      "action=513\n"
     ]
    },
    {
     "name": "stderr",
     "output_type": "stream",
     "text": [
      "100%|██████████| 513/513 [00:02<00:00, 207.09it/s]\n",
      "  4%|▍         | 29/657 [00:00<00:02, 287.71it/s]"
     ]
    },
    {
     "name": "stdout",
     "output_type": "stream",
     "text": [
      "in reset\n",
      "in step\n",
      "in take action\n",
      "action=657\n"
     ]
    },
    {
     "name": "stderr",
     "output_type": "stream",
     "text": [
      "100%|██████████| 657/657 [00:03<00:00, 194.68it/s]\n",
      " 10%|▉         | 31/324 [00:00<00:00, 297.41it/s]"
     ]
    },
    {
     "name": "stdout",
     "output_type": "stream",
     "text": [
      "in reset\n",
      "in step\n",
      "in take action\n",
      "action=324\n"
     ]
    },
    {
     "name": "stderr",
     "output_type": "stream",
     "text": [
      "100%|██████████| 324/324 [00:01<00:00, 214.61it/s]\n",
      "  4%|▍         | 32/770 [00:00<00:02, 311.83it/s]"
     ]
    },
    {
     "name": "stdout",
     "output_type": "stream",
     "text": [
      "in reset\n",
      "in step\n",
      "in take action\n",
      "action=770\n"
     ]
    },
    {
     "name": "stderr",
     "output_type": "stream",
     "text": [
      "100%|██████████| 770/770 [00:03<00:00, 239.83it/s]\n",
      " 18%|█▊        | 35/199 [00:00<00:00, 342.08it/s]"
     ]
    },
    {
     "name": "stdout",
     "output_type": "stream",
     "text": [
      "in reset\n",
      "in step\n",
      "in take action\n",
      "action=199\n"
     ]
    },
    {
     "name": "stderr",
     "output_type": "stream",
     "text": [
      "100%|██████████| 199/199 [00:00<00:00, 231.09it/s]\n",
      " 41%|████      | 32/78 [00:00<00:00, 317.22it/s]"
     ]
    },
    {
     "name": "stdout",
     "output_type": "stream",
     "text": [
      "in reset\n",
      "in step\n",
      "in take action\n",
      "action=78\n"
     ]
    },
    {
     "name": "stderr",
     "output_type": "stream",
     "text": [
      "100%|██████████| 78/78 [00:00<00:00, 269.53it/s]\n",
      "  3%|▎         | 19/614 [00:00<00:03, 183.05it/s]"
     ]
    },
    {
     "name": "stdout",
     "output_type": "stream",
     "text": [
      "in reset\n",
      "in step\n",
      "in take action\n",
      "action=614\n"
     ]
    },
    {
     "name": "stderr",
     "output_type": "stream",
     "text": [
      "100%|██████████| 614/614 [00:03<00:00, 190.78it/s]\n",
      " 17%|█▋        | 35/212 [00:00<00:00, 342.82it/s]"
     ]
    },
    {
     "name": "stdout",
     "output_type": "stream",
     "text": [
      "in reset\n",
      "in step\n",
      "in take action\n",
      "action=212\n"
     ]
    },
    {
     "name": "stderr",
     "output_type": "stream",
     "text": [
      "100%|██████████| 212/212 [00:00<00:00, 217.75it/s]\n",
      "  6%|▋         | 30/468 [00:00<00:01, 294.69it/s]"
     ]
    },
    {
     "name": "stdout",
     "output_type": "stream",
     "text": [
      "in reset\n",
      "in step\n",
      "in take action\n",
      "action=468\n"
     ]
    },
    {
     "name": "stderr",
     "output_type": "stream",
     "text": [
      "100%|██████████| 468/468 [00:02<00:00, 217.33it/s]\n",
      "  4%|▍         | 32/815 [00:00<00:02, 308.31it/s]"
     ]
    },
    {
     "name": "stdout",
     "output_type": "stream",
     "text": [
      "in reset\n",
      "in step\n",
      "in take action\n",
      "action=815\n"
     ]
    },
    {
     "name": "stderr",
     "output_type": "stream",
     "text": [
      "100%|██████████| 815/815 [00:04<00:00, 200.83it/s]\n",
      "  5%|▍         | 32/686 [00:00<00:02, 313.58it/s]"
     ]
    },
    {
     "name": "stdout",
     "output_type": "stream",
     "text": [
      "in reset\n",
      "in step\n",
      "in take action\n",
      "action=686\n"
     ]
    },
    {
     "name": "stderr",
     "output_type": "stream",
     "text": [
      "100%|██████████| 686/686 [00:03<00:00, 224.94it/s]\n",
      "  6%|▌         | 30/534 [00:00<00:01, 298.45it/s]"
     ]
    },
    {
     "name": "stdout",
     "output_type": "stream",
     "text": [
      "in reset\n",
      "in step\n",
      "in take action\n",
      "action=534\n"
     ]
    },
    {
     "name": "stderr",
     "output_type": "stream",
     "text": [
      "100%|██████████| 534/534 [00:02<00:00, 197.08it/s]\n",
      "100%|██████████| 14/14 [00:00<00:00, 331.35it/s]\n",
      "  4%|▍         | 33/852 [00:00<00:02, 316.72it/s]"
     ]
    },
    {
     "name": "stdout",
     "output_type": "stream",
     "text": [
      "in reset\n",
      "in step\n",
      "in take action\n",
      "action=14\n",
      "in reset\n",
      "in step\n",
      "in take action\n",
      "action=852\n"
     ]
    },
    {
     "name": "stderr",
     "output_type": "stream",
     "text": [
      "100%|██████████| 852/852 [00:04<00:00, 194.10it/s]\n",
      "  4%|▍         | 33/828 [00:00<00:02, 329.31it/s]"
     ]
    },
    {
     "name": "stdout",
     "output_type": "stream",
     "text": [
      "in reset\n",
      "in step\n",
      "in take action\n",
      "action=828\n"
     ]
    },
    {
     "name": "stderr",
     "output_type": "stream",
     "text": [
      "100%|██████████| 828/828 [00:04<00:00, 206.89it/s]\n",
      "  7%|▋         | 34/505 [00:00<00:01, 330.99it/s]"
     ]
    },
    {
     "name": "stdout",
     "output_type": "stream",
     "text": [
      "in reset\n",
      "in step\n",
      "in take action\n",
      "action=505\n"
     ]
    },
    {
     "name": "stderr",
     "output_type": "stream",
     "text": [
      "100%|██████████| 505/505 [00:02<00:00, 212.61it/s]\n",
      " 25%|██▌       | 32/127 [00:00<00:00, 313.69it/s]"
     ]
    },
    {
     "name": "stdout",
     "output_type": "stream",
     "text": [
      "in reset\n",
      "in step\n",
      "in take action\n",
      "action=127\n"
     ]
    },
    {
     "name": "stderr",
     "output_type": "stream",
     "text": [
      "100%|██████████| 127/127 [00:00<00:00, 288.44it/s]\n",
      "  6%|▌         | 25/453 [00:00<00:01, 243.84it/s]"
     ]
    },
    {
     "name": "stdout",
     "output_type": "stream",
     "text": [
      "in reset\n",
      "in step\n",
      "in take action\n",
      "action=453\n"
     ]
    },
    {
     "name": "stderr",
     "output_type": "stream",
     "text": [
      "100%|██████████| 453/453 [00:02<00:00, 206.47it/s]\n",
      "  6%|▌         | 34/577 [00:00<00:01, 333.62it/s]"
     ]
    },
    {
     "name": "stdout",
     "output_type": "stream",
     "text": [
      "in reset\n",
      "in step\n",
      "in take action\n",
      "action=577\n"
     ]
    },
    {
     "name": "stderr",
     "output_type": "stream",
     "text": [
      "100%|██████████| 577/577 [00:02<00:00, 198.72it/s]\n",
      "  7%|▋         | 31/431 [00:00<00:01, 298.47it/s]"
     ]
    },
    {
     "name": "stdout",
     "output_type": "stream",
     "text": [
      "in reset\n",
      "in step\n",
      "in take action\n",
      "action=431\n"
     ]
    },
    {
     "name": "stderr",
     "output_type": "stream",
     "text": [
      "100%|██████████| 431/431 [00:02<00:00, 193.46it/s]\n",
      "  5%|▍         | 35/771 [00:00<00:02, 347.27it/s]"
     ]
    },
    {
     "name": "stdout",
     "output_type": "stream",
     "text": [
      "in reset\n",
      "in step\n",
      "in take action\n",
      "action=771\n"
     ]
    },
    {
     "name": "stderr",
     "output_type": "stream",
     "text": [
      "100%|██████████| 771/771 [00:03<00:00, 215.83it/s]\n",
      " 20%|█▉        | 34/173 [00:00<00:00, 331.15it/s]"
     ]
    },
    {
     "name": "stdout",
     "output_type": "stream",
     "text": [
      "in reset\n",
      "in step\n",
      "in take action\n",
      "action=173\n"
     ]
    },
    {
     "name": "stderr",
     "output_type": "stream",
     "text": [
      "100%|██████████| 173/173 [00:00<00:00, 268.46it/s]\n",
      "  4%|▍         | 21/541 [00:00<00:02, 200.18it/s]"
     ]
    },
    {
     "name": "stdout",
     "output_type": "stream",
     "text": [
      "in reset\n",
      "in step\n",
      "in take action\n",
      "action=541\n"
     ]
    },
    {
     "name": "stderr",
     "output_type": "stream",
     "text": [
      "100%|██████████| 541/541 [00:02<00:00, 215.83it/s]\n",
      "  3%|▎         | 30/936 [00:00<00:03, 298.23it/s]"
     ]
    },
    {
     "name": "stdout",
     "output_type": "stream",
     "text": [
      "in reset\n",
      "in step\n",
      "in take action\n",
      "action=936\n"
     ]
    },
    {
     "name": "stderr",
     "output_type": "stream",
     "text": [
      "100%|██████████| 936/936 [00:04<00:00, 204.85it/s]\n",
      " 45%|████▌     | 32/71 [00:00<00:00, 304.60it/s]"
     ]
    },
    {
     "name": "stdout",
     "output_type": "stream",
     "text": [
      "in reset\n",
      "in step\n",
      "in take action\n",
      "action=71\n"
     ]
    },
    {
     "name": "stderr",
     "output_type": "stream",
     "text": [
      "100%|██████████| 71/71 [00:00<00:00, 244.25it/s]\n",
      "  7%|▋         | 26/351 [00:00<00:01, 255.75it/s]"
     ]
    },
    {
     "name": "stdout",
     "output_type": "stream",
     "text": [
      "in reset\n",
      "in step\n",
      "in take action\n",
      "action=351\n"
     ]
    },
    {
     "name": "stderr",
     "output_type": "stream",
     "text": [
      "100%|██████████| 351/351 [00:01<00:00, 229.70it/s]\n",
      "  6%|▌         | 28/504 [00:00<00:01, 278.91it/s]"
     ]
    },
    {
     "name": "stdout",
     "output_type": "stream",
     "text": [
      "in reset\n",
      "in step\n",
      "in take action\n",
      "action=504\n"
     ]
    },
    {
     "name": "stderr",
     "output_type": "stream",
     "text": [
      "100%|██████████| 504/504 [00:02<00:00, 219.15it/s]\n",
      "  8%|▊         | 33/439 [00:00<00:01, 320.64it/s]"
     ]
    },
    {
     "name": "stdout",
     "output_type": "stream",
     "text": [
      "in reset\n",
      "in step\n",
      "in take action\n",
      "action=439\n"
     ]
    },
    {
     "name": "stderr",
     "output_type": "stream",
     "text": [
      "100%|██████████| 439/439 [00:02<00:00, 212.69it/s]\n",
      "  8%|▊         | 32/396 [00:00<00:01, 307.08it/s]"
     ]
    },
    {
     "name": "stdout",
     "output_type": "stream",
     "text": [
      "in reset\n",
      "in step\n",
      "in take action\n",
      "action=396\n"
     ]
    },
    {
     "name": "stderr",
     "output_type": "stream",
     "text": [
      "100%|██████████| 396/396 [00:01<00:00, 215.00it/s]\n",
      " 10%|▉         | 31/326 [00:00<00:00, 308.67it/s]"
     ]
    },
    {
     "name": "stdout",
     "output_type": "stream",
     "text": [
      "in reset\n",
      "in step\n",
      "in take action\n",
      "action=326\n"
     ]
    },
    {
     "name": "stderr",
     "output_type": "stream",
     "text": [
      "100%|██████████| 326/326 [00:01<00:00, 233.48it/s]\n",
      "  4%|▍         | 32/800 [00:00<00:02, 315.55it/s]"
     ]
    },
    {
     "name": "stdout",
     "output_type": "stream",
     "text": [
      "in reset\n",
      "in step\n",
      "in take action\n",
      "action=800\n"
     ]
    },
    {
     "name": "stderr",
     "output_type": "stream",
     "text": [
      "100%|██████████| 800/800 [00:03<00:00, 215.12it/s]\n",
      "  4%|▍         | 32/810 [00:00<00:02, 307.22it/s]"
     ]
    },
    {
     "name": "stdout",
     "output_type": "stream",
     "text": [
      "in reset\n",
      "in step\n",
      "in take action\n",
      "action=810\n"
     ]
    },
    {
     "name": "stderr",
     "output_type": "stream",
     "text": [
      "100%|██████████| 810/810 [00:03<00:00, 218.26it/s]\n",
      "  6%|▌         | 34/612 [00:00<00:01, 337.92it/s]"
     ]
    },
    {
     "name": "stdout",
     "output_type": "stream",
     "text": [
      "in reset\n",
      "in step\n",
      "in take action\n",
      "action=612\n"
     ]
    },
    {
     "name": "stderr",
     "output_type": "stream",
     "text": [
      "100%|██████████| 612/612 [00:02<00:00, 215.17it/s]\n",
      "100%|██████████| 42/42 [00:00<00:00, 265.05it/s]\n",
      "  0%|          | 0/474 [00:00<?, ?it/s]"
     ]
    },
    {
     "name": "stdout",
     "output_type": "stream",
     "text": [
      "in reset\n",
      "in step\n",
      "in take action\n",
      "action=42\n",
      "in reset\n",
      "in step\n",
      "in take action\n",
      "action=474\n"
     ]
    },
    {
     "name": "stderr",
     "output_type": "stream",
     "text": [
      "100%|██████████| 474/474 [00:02<00:00, 199.80it/s]\n",
      "  6%|▌         | 31/527 [00:00<00:01, 304.79it/s]"
     ]
    },
    {
     "name": "stdout",
     "output_type": "stream",
     "text": [
      "in reset\n",
      "in step\n",
      "in take action\n",
      "action=527\n"
     ]
    },
    {
     "name": "stderr",
     "output_type": "stream",
     "text": [
      "100%|██████████| 527/527 [00:02<00:00, 207.44it/s]\n",
      "  4%|▍         | 31/722 [00:00<00:02, 307.61it/s]"
     ]
    },
    {
     "name": "stdout",
     "output_type": "stream",
     "text": [
      "in reset\n",
      "in step\n",
      "in take action\n",
      "action=722\n"
     ]
    },
    {
     "name": "stderr",
     "output_type": "stream",
     "text": [
      "100%|██████████| 722/722 [00:03<00:00, 206.51it/s]\n",
      " 17%|█▋        | 34/198 [00:00<00:00, 338.64it/s]"
     ]
    },
    {
     "name": "stdout",
     "output_type": "stream",
     "text": [
      "in reset\n",
      "in step\n",
      "in take action\n",
      "action=198\n"
     ]
    },
    {
     "name": "stderr",
     "output_type": "stream",
     "text": [
      "100%|██████████| 198/198 [00:00<00:00, 253.35it/s]\n",
      "  3%|▎         | 25/921 [00:00<00:03, 248.26it/s]"
     ]
    },
    {
     "name": "stdout",
     "output_type": "stream",
     "text": [
      "in reset\n",
      "in step\n",
      "in take action\n",
      "action=921\n"
     ]
    },
    {
     "name": "stderr",
     "output_type": "stream",
     "text": [
      "100%|██████████| 921/921 [00:04<00:00, 203.18it/s]\n",
      "  6%|▌         | 31/550 [00:00<00:01, 305.60it/s]"
     ]
    },
    {
     "name": "stdout",
     "output_type": "stream",
     "text": [
      "in reset\n",
      "in step\n",
      "in take action\n",
      "action=550\n"
     ]
    },
    {
     "name": "stderr",
     "output_type": "stream",
     "text": [
      "100%|██████████| 550/550 [00:02<00:00, 189.18it/s]\n",
      "  5%|▍         | 34/687 [00:00<00:01, 331.23it/s]"
     ]
    },
    {
     "name": "stdout",
     "output_type": "stream",
     "text": [
      "in reset\n",
      "in step\n",
      "in take action\n",
      "action=687\n"
     ]
    },
    {
     "name": "stderr",
     "output_type": "stream",
     "text": [
      "100%|██████████| 687/687 [00:02<00:00, 238.52it/s]\n",
      "  8%|▊         | 31/390 [00:00<00:01, 306.00it/s]"
     ]
    },
    {
     "name": "stdout",
     "output_type": "stream",
     "text": [
      "in reset\n",
      "in step\n",
      "in take action\n",
      "action=390\n"
     ]
    },
    {
     "name": "stderr",
     "output_type": "stream",
     "text": [
      "100%|██████████| 390/390 [00:01<00:00, 227.51it/s]\n",
      " 37%|███▋      | 35/95 [00:00<00:00, 344.35it/s]"
     ]
    },
    {
     "name": "stdout",
     "output_type": "stream",
     "text": [
      "in reset\n",
      "in step\n",
      "in take action\n",
      "action=95\n"
     ]
    },
    {
     "name": "stderr",
     "output_type": "stream",
     "text": [
      "100%|██████████| 95/95 [00:00<00:00, 269.88it/s]\n",
      " 16%|█▌        | 27/174 [00:00<00:00, 261.59it/s]"
     ]
    },
    {
     "name": "stdout",
     "output_type": "stream",
     "text": [
      "in reset\n",
      "in step\n",
      "in take action\n",
      "action=174\n"
     ]
    },
    {
     "name": "stderr",
     "output_type": "stream",
     "text": [
      "100%|██████████| 174/174 [00:00<00:00, 221.07it/s]\n",
      " 11%|█▏        | 30/261 [00:00<00:00, 285.58it/s]"
     ]
    },
    {
     "name": "stdout",
     "output_type": "stream",
     "text": [
      "in reset\n",
      "in step\n",
      "in take action\n",
      "action=261\n"
     ]
    },
    {
     "name": "stderr",
     "output_type": "stream",
     "text": [
      "100%|██████████| 261/261 [00:01<00:00, 202.21it/s]\n",
      "  7%|▋         | 35/477 [00:00<00:01, 347.32it/s]"
     ]
    },
    {
     "name": "stdout",
     "output_type": "stream",
     "text": [
      "in reset\n",
      "in step\n",
      "in take action\n",
      "action=477\n"
     ]
    },
    {
     "name": "stderr",
     "output_type": "stream",
     "text": [
      "100%|██████████| 477/477 [00:01<00:00, 292.30it/s]\n",
      "  5%|▌         | 32/588 [00:00<00:01, 305.67it/s]"
     ]
    },
    {
     "name": "stdout",
     "output_type": "stream",
     "text": [
      "in reset\n",
      "in step\n",
      "in take action\n",
      "action=588\n"
     ]
    },
    {
     "name": "stderr",
     "output_type": "stream",
     "text": [
      "100%|██████████| 588/588 [00:02<00:00, 221.12it/s]\n",
      "  6%|▌         | 34/556 [00:00<00:01, 327.79it/s]"
     ]
    },
    {
     "name": "stdout",
     "output_type": "stream",
     "text": [
      "in reset\n",
      "in step\n",
      "in take action\n",
      "action=556\n"
     ]
    },
    {
     "name": "stderr",
     "output_type": "stream",
     "text": [
      "100%|██████████| 556/556 [00:02<00:00, 211.98it/s]\n",
      "  6%|▌         | 32/539 [00:00<00:01, 305.48it/s]"
     ]
    },
    {
     "name": "stdout",
     "output_type": "stream",
     "text": [
      "in reset\n",
      "in step\n",
      "in take action\n",
      "action=539\n"
     ]
    },
    {
     "name": "stderr",
     "output_type": "stream",
     "text": [
      "100%|██████████| 539/539 [00:02<00:00, 202.09it/s]\n",
      "  7%|▋         | 34/480 [00:00<00:01, 328.24it/s]"
     ]
    },
    {
     "name": "stdout",
     "output_type": "stream",
     "text": [
      "in reset\n",
      "in step\n",
      "in take action\n",
      "action=480\n"
     ]
    },
    {
     "name": "stderr",
     "output_type": "stream",
     "text": [
      "100%|██████████| 480/480 [00:02<00:00, 220.74it/s]\n",
      "  5%|▍         | 35/732 [00:00<00:02, 340.81it/s]"
     ]
    },
    {
     "name": "stdout",
     "output_type": "stream",
     "text": [
      "in reset\n",
      "in step\n",
      "in take action\n",
      "action=732\n"
     ]
    },
    {
     "name": "stderr",
     "output_type": "stream",
     "text": [
      "100%|██████████| 732/732 [00:03<00:00, 210.44it/s]\n",
      "  9%|▉         | 32/358 [00:00<00:01, 311.88it/s]"
     ]
    },
    {
     "name": "stdout",
     "output_type": "stream",
     "text": [
      "in reset\n",
      "in step\n",
      "in take action\n",
      "action=358\n"
     ]
    },
    {
     "name": "stderr",
     "output_type": "stream",
     "text": [
      "100%|██████████| 358/358 [00:01<00:00, 255.34it/s]\n",
      " 10%|▉         | 29/297 [00:00<00:00, 285.48it/s]"
     ]
    },
    {
     "name": "stdout",
     "output_type": "stream",
     "text": [
      "in reset\n",
      "in step\n",
      "in take action\n",
      "action=297\n"
     ]
    },
    {
     "name": "stderr",
     "output_type": "stream",
     "text": [
      "100%|██████████| 297/297 [00:01<00:00, 199.46it/s]\n",
      "  4%|▎         | 29/818 [00:00<00:02, 289.60it/s]"
     ]
    },
    {
     "name": "stdout",
     "output_type": "stream",
     "text": [
      "in reset\n",
      "in step\n",
      "in take action\n",
      "action=818\n"
     ]
    },
    {
     "name": "stderr",
     "output_type": "stream",
     "text": [
      "100%|██████████| 818/818 [00:04<00:00, 201.10it/s]\n",
      "  6%|▌         | 31/544 [00:00<00:01, 309.25it/s]"
     ]
    },
    {
     "name": "stdout",
     "output_type": "stream",
     "text": [
      "in reset\n",
      "in step\n",
      "in take action\n",
      "action=544\n"
     ]
    },
    {
     "name": "stderr",
     "output_type": "stream",
     "text": [
      "100%|██████████| 544/544 [00:02<00:00, 210.13it/s]\n",
      "  4%|▍         | 34/848 [00:00<00:02, 333.14it/s]"
     ]
    },
    {
     "name": "stdout",
     "output_type": "stream",
     "text": [
      "in reset\n",
      "in step\n",
      "in take action\n",
      "action=848\n"
     ]
    },
    {
     "name": "stderr",
     "output_type": "stream",
     "text": [
      "100%|██████████| 848/848 [00:03<00:00, 229.56it/s]\n",
      "  5%|▍         | 35/745 [00:00<00:02, 345.39it/s]"
     ]
    },
    {
     "name": "stdout",
     "output_type": "stream",
     "text": [
      "in reset\n",
      "in step\n",
      "in take action\n",
      "action=745\n"
     ]
    },
    {
     "name": "stderr",
     "output_type": "stream",
     "text": [
      "100%|██████████| 745/745 [00:03<00:00, 200.74it/s]\n",
      "  7%|▋         | 33/468 [00:00<00:01, 325.29it/s]"
     ]
    },
    {
     "name": "stdout",
     "output_type": "stream",
     "text": [
      "in reset\n",
      "in step\n",
      "in take action\n",
      "action=468\n"
     ]
    },
    {
     "name": "stderr",
     "output_type": "stream",
     "text": [
      "100%|██████████| 468/468 [00:02<00:00, 203.75it/s]\n",
      "  8%|▊         | 35/433 [00:00<00:01, 346.83it/s]"
     ]
    },
    {
     "name": "stdout",
     "output_type": "stream",
     "text": [
      "in reset\n",
      "in step\n",
      "in take action\n",
      "action=433\n"
     ]
    },
    {
     "name": "stderr",
     "output_type": "stream",
     "text": [
      "100%|██████████| 433/433 [00:01<00:00, 245.25it/s]\n",
      " 13%|█▎        | 34/259 [00:00<00:00, 332.84it/s]"
     ]
    },
    {
     "name": "stdout",
     "output_type": "stream",
     "text": [
      "in reset\n",
      "in step\n",
      "in take action\n",
      "action=259\n"
     ]
    },
    {
     "name": "stderr",
     "output_type": "stream",
     "text": [
      "100%|██████████| 259/259 [00:00<00:00, 267.29it/s]\n",
      " 11%|█         | 31/294 [00:00<00:00, 305.67it/s]"
     ]
    },
    {
     "name": "stdout",
     "output_type": "stream",
     "text": [
      "in reset\n",
      "in step\n",
      "in take action\n",
      "action=294\n"
     ]
    },
    {
     "name": "stderr",
     "output_type": "stream",
     "text": [
      "100%|██████████| 294/294 [00:01<00:00, 213.44it/s]\n",
      "  7%|▋         | 34/465 [00:00<00:01, 339.68it/s]"
     ]
    },
    {
     "name": "stdout",
     "output_type": "stream",
     "text": [
      "in reset\n",
      "in step\n",
      "in take action\n",
      "action=465\n"
     ]
    },
    {
     "name": "stderr",
     "output_type": "stream",
     "text": [
      "100%|██████████| 465/465 [00:02<00:00, 208.77it/s]\n",
      "  3%|▎         | 33/992 [00:00<00:02, 327.69it/s]"
     ]
    },
    {
     "name": "stdout",
     "output_type": "stream",
     "text": [
      "in reset\n",
      "in step\n",
      "in take action\n",
      "action=992\n"
     ]
    },
    {
     "name": "stderr",
     "output_type": "stream",
     "text": [
      "100%|██████████| 992/992 [00:04<00:00, 207.28it/s]\n",
      " 42%|████▏     | 31/74 [00:00<00:00, 309.54it/s]"
     ]
    },
    {
     "name": "stdout",
     "output_type": "stream",
     "text": [
      "in reset\n",
      "in step\n",
      "in take action\n",
      "action=74\n"
     ]
    },
    {
     "name": "stderr",
     "output_type": "stream",
     "text": [
      "100%|██████████| 74/74 [00:00<00:00, 218.94it/s]\n",
      " 42%|████▏     | 29/69 [00:00<00:00, 280.29it/s]"
     ]
    },
    {
     "name": "stdout",
     "output_type": "stream",
     "text": [
      "in reset\n",
      "in step\n",
      "in take action\n",
      "action=69\n"
     ]
    },
    {
     "name": "stderr",
     "output_type": "stream",
     "text": [
      "100%|██████████| 69/69 [00:00<00:00, 242.02it/s]\n",
      "  3%|▎         | 20/707 [00:00<00:03, 193.49it/s]"
     ]
    },
    {
     "name": "stdout",
     "output_type": "stream",
     "text": [
      "in reset\n",
      "in step\n",
      "in take action\n",
      "action=707\n"
     ]
    },
    {
     "name": "stderr",
     "output_type": "stream",
     "text": [
      "100%|██████████| 707/707 [00:03<00:00, 220.16it/s]\n",
      "  6%|▌         | 34/606 [00:00<00:01, 335.18it/s]"
     ]
    },
    {
     "name": "stdout",
     "output_type": "stream",
     "text": [
      "in reset\n",
      "in step\n",
      "in take action\n",
      "action=606\n"
     ]
    },
    {
     "name": "stderr",
     "output_type": "stream",
     "text": [
      "100%|██████████| 606/606 [00:02<00:00, 210.11it/s]\n",
      "  6%|▋         | 34/529 [00:00<00:01, 330.31it/s]"
     ]
    },
    {
     "name": "stdout",
     "output_type": "stream",
     "text": [
      "in reset\n",
      "in step\n",
      "in take action\n",
      "action=529\n"
     ]
    },
    {
     "name": "stderr",
     "output_type": "stream",
     "text": [
      "100%|██████████| 529/529 [00:02<00:00, 214.04it/s]\n",
      "  6%|▌         | 33/570 [00:00<00:01, 325.28it/s]"
     ]
    },
    {
     "name": "stdout",
     "output_type": "stream",
     "text": [
      "in reset\n",
      "in step\n",
      "in take action\n",
      "action=570\n"
     ]
    },
    {
     "name": "stderr",
     "output_type": "stream",
     "text": [
      "100%|██████████| 570/570 [00:02<00:00, 190.29it/s]\n",
      " 22%|██▏       | 34/154 [00:00<00:00, 328.74it/s]"
     ]
    },
    {
     "name": "stdout",
     "output_type": "stream",
     "text": [
      "in reset\n",
      "in step\n",
      "in take action\n",
      "action=154\n"
     ]
    },
    {
     "name": "stderr",
     "output_type": "stream",
     "text": [
      "100%|██████████| 154/154 [00:00<00:00, 207.64it/s]\n",
      "  4%|▎         | 29/815 [00:00<00:02, 286.62it/s]"
     ]
    },
    {
     "name": "stdout",
     "output_type": "stream",
     "text": [
      "in reset\n",
      "in step\n",
      "in take action\n",
      "action=815\n"
     ]
    },
    {
     "name": "stderr",
     "output_type": "stream",
     "text": [
      "100%|██████████| 815/815 [00:03<00:00, 206.26it/s]\n",
      " 25%|██▌       | 35/139 [00:00<00:00, 349.12it/s]"
     ]
    },
    {
     "name": "stdout",
     "output_type": "stream",
     "text": [
      "in reset\n",
      "in step\n",
      "in take action\n",
      "action=139\n"
     ]
    },
    {
     "name": "stderr",
     "output_type": "stream",
     "text": [
      "100%|██████████| 139/139 [00:00<00:00, 340.66it/s]\n",
      "  3%|▎         | 29/919 [00:00<00:03, 289.04it/s]"
     ]
    },
    {
     "name": "stdout",
     "output_type": "stream",
     "text": [
      "in reset\n",
      "in step\n",
      "in take action\n",
      "action=919\n"
     ]
    },
    {
     "name": "stderr",
     "output_type": "stream",
     "text": [
      "100%|██████████| 919/919 [00:04<00:00, 209.91it/s]\n",
      " 12%|█▏        | 36/311 [00:00<00:00, 352.27it/s]"
     ]
    },
    {
     "name": "stdout",
     "output_type": "stream",
     "text": [
      "in reset\n",
      "in step\n",
      "in take action\n",
      "action=311\n"
     ]
    },
    {
     "name": "stderr",
     "output_type": "stream",
     "text": [
      "100%|██████████| 311/311 [00:01<00:00, 200.87it/s]\n",
      "  7%|▋         | 31/420 [00:00<00:01, 302.12it/s]"
     ]
    },
    {
     "name": "stdout",
     "output_type": "stream",
     "text": [
      "in reset\n",
      "in step\n",
      "in take action\n",
      "action=420\n"
     ]
    },
    {
     "name": "stderr",
     "output_type": "stream",
     "text": [
      "100%|██████████| 420/420 [00:01<00:00, 226.69it/s]\n",
      "  3%|▎         | 33/969 [00:00<00:02, 324.06it/s]"
     ]
    },
    {
     "name": "stdout",
     "output_type": "stream",
     "text": [
      "in reset\n",
      "in step\n",
      "in take action\n",
      "action=969\n"
     ]
    },
    {
     "name": "stderr",
     "output_type": "stream",
     "text": [
      "100%|██████████| 969/969 [00:04<00:00, 209.95it/s]\n",
      "  8%|▊         | 33/400 [00:00<00:01, 320.92it/s]"
     ]
    },
    {
     "name": "stdout",
     "output_type": "stream",
     "text": [
      "in reset\n",
      "in step\n",
      "in take action\n",
      "action=400\n"
     ]
    },
    {
     "name": "stderr",
     "output_type": "stream",
     "text": [
      "100%|██████████| 400/400 [00:01<00:00, 212.85it/s]\n",
      " 16%|█▌        | 35/225 [00:00<00:00, 341.22it/s]"
     ]
    },
    {
     "name": "stdout",
     "output_type": "stream",
     "text": [
      "in reset\n",
      "in step\n",
      "in take action\n",
      "action=225\n"
     ]
    },
    {
     "name": "stderr",
     "output_type": "stream",
     "text": [
      "100%|██████████| 225/225 [00:01<00:00, 212.75it/s]\n",
      " 35%|███▌      | 30/85 [00:00<00:00, 284.83it/s]"
     ]
    },
    {
     "name": "stdout",
     "output_type": "stream",
     "text": [
      "in reset\n",
      "in step\n",
      "in take action\n",
      "action=85\n"
     ]
    },
    {
     "name": "stderr",
     "output_type": "stream",
     "text": [
      "100%|██████████| 85/85 [00:00<00:00, 205.25it/s]\n",
      "  5%|▌         | 32/621 [00:00<00:01, 315.78it/s]"
     ]
    },
    {
     "name": "stdout",
     "output_type": "stream",
     "text": [
      "in reset\n",
      "in step\n",
      "in take action\n",
      "action=621\n"
     ]
    },
    {
     "name": "stderr",
     "output_type": "stream",
     "text": [
      "100%|██████████| 621/621 [00:02<00:00, 229.75it/s]\n",
      " 12%|█▏        | 32/271 [00:00<00:00, 317.19it/s]"
     ]
    },
    {
     "name": "stdout",
     "output_type": "stream",
     "text": [
      "in reset\n",
      "in step\n",
      "in take action\n",
      "action=271\n"
     ]
    },
    {
     "name": "stderr",
     "output_type": "stream",
     "text": [
      "100%|██████████| 271/271 [00:01<00:00, 226.10it/s]\n",
      "  7%|▋         | 29/432 [00:00<00:01, 283.33it/s]"
     ]
    },
    {
     "name": "stdout",
     "output_type": "stream",
     "text": [
      "in reset\n",
      "in step\n",
      "in take action\n",
      "action=432\n"
     ]
    },
    {
     "name": "stderr",
     "output_type": "stream",
     "text": [
      "100%|██████████| 432/432 [00:02<00:00, 196.61it/s]"
     ]
    },
    {
     "name": "stdout",
     "output_type": "stream",
     "text": [
      "in reset\n",
      "-------------------------------------\n",
      "| approxkl           | 0.0005402479 |\n",
      "| clipfrac           | 0.0          |\n",
      "| explained_variance | -0.000285    |\n",
      "| fps                | 0            |\n",
      "| n_updates          | 2            |\n",
      "| policy_entropy     | 6.9064536    |\n",
      "| policy_loss        | -0.018907744 |\n",
      "| serial_timesteps   | 256          |\n",
      "| time_elapsed       | 319          |\n",
      "| total_timesteps    | 256          |\n",
      "| value_loss         | 492944.6     |\n",
      "-------------------------------------\n"
     ]
    },
    {
     "name": "stderr",
     "output_type": "stream",
     "text": [
      "\n",
      "  3%|▎         | 29/858 [00:00<00:02, 281.30it/s]"
     ]
    },
    {
     "name": "stdout",
     "output_type": "stream",
     "text": [
      "in step\n",
      "in take action\n",
      "action=858\n"
     ]
    },
    {
     "name": "stderr",
     "output_type": "stream",
     "text": [
      "100%|██████████| 858/858 [00:04<00:00, 201.40it/s]\n",
      "  5%|▍         | 32/706 [00:00<00:02, 309.55it/s]"
     ]
    },
    {
     "name": "stdout",
     "output_type": "stream",
     "text": [
      "in reset\n",
      "in step\n",
      "in take action\n",
      "action=706\n"
     ]
    },
    {
     "name": "stderr",
     "output_type": "stream",
     "text": [
      "100%|██████████| 706/706 [00:03<00:00, 211.60it/s]\n",
      "  3%|▎         | 30/948 [00:00<00:03, 291.74it/s]"
     ]
    },
    {
     "name": "stdout",
     "output_type": "stream",
     "text": [
      "in reset\n",
      "in step\n",
      "in take action\n",
      "action=948\n"
     ]
    },
    {
     "name": "stderr",
     "output_type": "stream",
     "text": [
      "100%|██████████| 948/948 [00:04<00:00, 221.08it/s]\n",
      "  8%|▊         | 34/427 [00:00<00:01, 331.35it/s]"
     ]
    },
    {
     "name": "stdout",
     "output_type": "stream",
     "text": [
      "in reset\n",
      "in step\n",
      "in take action\n",
      "action=427\n"
     ]
    },
    {
     "name": "stderr",
     "output_type": "stream",
     "text": [
      "100%|██████████| 427/427 [00:01<00:00, 250.95it/s]\n",
      "100%|██████████| 6/6 [00:00<00:00, 307.58it/s]\n",
      "  5%|▌         | 30/595 [00:00<00:01, 293.43it/s]"
     ]
    },
    {
     "name": "stdout",
     "output_type": "stream",
     "text": [
      "in reset\n",
      "in step\n",
      "in take action\n",
      "action=6\n",
      "in reset\n",
      "in step\n",
      "in take action\n",
      "action=595\n"
     ]
    },
    {
     "name": "stderr",
     "output_type": "stream",
     "text": [
      "100%|██████████| 595/595 [00:02<00:00, 217.97it/s]\n",
      " 29%|██▉       | 33/112 [00:00<00:00, 323.97it/s]"
     ]
    },
    {
     "name": "stdout",
     "output_type": "stream",
     "text": [
      "in reset\n",
      "in step\n",
      "in take action\n",
      "action=112\n"
     ]
    },
    {
     "name": "stderr",
     "output_type": "stream",
     "text": [
      "100%|██████████| 112/112 [00:00<00:00, 250.39it/s]\n",
      "  3%|▎         | 20/691 [00:00<00:03, 191.21it/s]"
     ]
    },
    {
     "name": "stdout",
     "output_type": "stream",
     "text": [
      "in reset\n",
      "in step\n",
      "in take action\n",
      "action=691\n"
     ]
    },
    {
     "name": "stderr",
     "output_type": "stream",
     "text": [
      "100%|██████████| 691/691 [00:03<00:00, 193.80it/s]\n",
      " 28%|██▊       | 32/113 [00:00<00:00, 314.79it/s]"
     ]
    },
    {
     "name": "stdout",
     "output_type": "stream",
     "text": [
      "in reset\n",
      "in step\n",
      "in take action\n",
      "action=113\n"
     ]
    },
    {
     "name": "stderr",
     "output_type": "stream",
     "text": [
      "100%|██████████| 113/113 [00:00<00:00, 286.50it/s]\n",
      " 35%|███▍      | 26/75 [00:00<00:00, 257.79it/s]"
     ]
    },
    {
     "name": "stdout",
     "output_type": "stream",
     "text": [
      "in reset\n",
      "in step\n",
      "in take action\n",
      "action=75\n"
     ]
    },
    {
     "name": "stderr",
     "output_type": "stream",
     "text": [
      "100%|██████████| 75/75 [00:00<00:00, 240.92it/s]\n",
      "  3%|▎         | 28/889 [00:00<00:03, 279.26it/s]"
     ]
    },
    {
     "name": "stdout",
     "output_type": "stream",
     "text": [
      "in reset\n",
      "in step\n",
      "in take action\n",
      "action=889\n"
     ]
    },
    {
     "name": "stderr",
     "output_type": "stream",
     "text": [
      "100%|██████████| 889/889 [00:04<00:00, 206.70it/s]\n",
      "  5%|▌         | 33/634 [00:00<00:01, 325.06it/s]"
     ]
    },
    {
     "name": "stdout",
     "output_type": "stream",
     "text": [
      "in reset\n",
      "in step\n",
      "in take action\n",
      "action=634\n"
     ]
    },
    {
     "name": "stderr",
     "output_type": "stream",
     "text": [
      "100%|██████████| 634/634 [00:03<00:00, 202.49it/s]\n",
      " 12%|█▎        | 33/264 [00:00<00:00, 320.72it/s]"
     ]
    },
    {
     "name": "stdout",
     "output_type": "stream",
     "text": [
      "in reset\n",
      "in step\n",
      "in take action\n",
      "action=264\n"
     ]
    },
    {
     "name": "stderr",
     "output_type": "stream",
     "text": [
      "100%|██████████| 264/264 [00:01<00:00, 193.17it/s]\n",
      " 27%|██▋       | 31/114 [00:00<00:00, 303.02it/s]"
     ]
    },
    {
     "name": "stdout",
     "output_type": "stream",
     "text": [
      "in reset\n",
      "in step\n",
      "in take action\n",
      "action=114\n"
     ]
    },
    {
     "name": "stderr",
     "output_type": "stream",
     "text": [
      "100%|██████████| 114/114 [00:00<00:00, 287.78it/s]\n",
      "  4%|▍         | 29/745 [00:00<00:02, 284.16it/s]"
     ]
    },
    {
     "name": "stdout",
     "output_type": "stream",
     "text": [
      "in reset\n",
      "in step\n",
      "in take action\n",
      "action=745\n"
     ]
    },
    {
     "name": "stderr",
     "output_type": "stream",
     "text": [
      "100%|██████████| 745/745 [00:03<00:00, 241.24it/s]\n",
      "  3%|▎         | 32/965 [00:00<00:02, 319.21it/s]"
     ]
    },
    {
     "name": "stdout",
     "output_type": "stream",
     "text": [
      "in reset\n",
      "in step\n",
      "in take action\n",
      "action=965\n"
     ]
    },
    {
     "name": "stderr",
     "output_type": "stream",
     "text": [
      "100%|██████████| 965/965 [00:03<00:00, 243.42it/s]\n",
      "  3%|▎         | 33/950 [00:00<00:02, 321.97it/s]"
     ]
    },
    {
     "name": "stdout",
     "output_type": "stream",
     "text": [
      "in reset\n",
      "in step\n",
      "in take action\n",
      "action=950\n"
     ]
    },
    {
     "name": "stderr",
     "output_type": "stream",
     "text": [
      "100%|██████████| 950/950 [00:04<00:00, 224.72it/s]\n",
      "  7%|▋         | 32/454 [00:00<00:01, 309.17it/s]"
     ]
    },
    {
     "name": "stdout",
     "output_type": "stream",
     "text": [
      "in reset\n",
      "in step\n",
      "in take action\n",
      "action=454\n"
     ]
    },
    {
     "name": "stderr",
     "output_type": "stream",
     "text": [
      "100%|██████████| 454/454 [00:02<00:00, 215.93it/s]\n",
      "  4%|▍         | 29/704 [00:00<00:02, 286.59it/s]"
     ]
    },
    {
     "name": "stdout",
     "output_type": "stream",
     "text": [
      "in reset\n",
      "in step\n",
      "in take action\n",
      "action=704\n"
     ]
    },
    {
     "name": "stderr",
     "output_type": "stream",
     "text": [
      "100%|██████████| 704/704 [00:03<00:00, 208.38it/s]\n",
      "  4%|▍         | 32/763 [00:00<00:02, 312.56it/s]"
     ]
    },
    {
     "name": "stdout",
     "output_type": "stream",
     "text": [
      "in reset\n",
      "in step\n",
      "in take action\n",
      "action=763\n"
     ]
    },
    {
     "name": "stderr",
     "output_type": "stream",
     "text": [
      "100%|██████████| 763/763 [00:03<00:00, 222.55it/s]\n",
      "  5%|▌         | 33/621 [00:00<00:01, 320.27it/s]"
     ]
    },
    {
     "name": "stdout",
     "output_type": "stream",
     "text": [
      "in reset\n",
      "in step\n",
      "in take action\n",
      "action=621\n"
     ]
    },
    {
     "name": "stderr",
     "output_type": "stream",
     "text": [
      "100%|██████████| 621/621 [00:03<00:00, 200.11it/s]\n",
      " 44%|████▍     | 32/72 [00:00<00:00, 312.98it/s]"
     ]
    },
    {
     "name": "stdout",
     "output_type": "stream",
     "text": [
      "in reset\n",
      "in step\n",
      "in take action\n",
      "action=72\n"
     ]
    },
    {
     "name": "stderr",
     "output_type": "stream",
     "text": [
      "100%|██████████| 72/72 [00:00<00:00, 271.57it/s]\n",
      "  4%|▍         | 26/673 [00:00<00:02, 248.41it/s]"
     ]
    },
    {
     "name": "stdout",
     "output_type": "stream",
     "text": [
      "in reset\n",
      "in step\n",
      "in take action\n",
      "action=673\n"
     ]
    },
    {
     "name": "stderr",
     "output_type": "stream",
     "text": [
      "100%|██████████| 673/673 [00:03<00:00, 213.66it/s]\n",
      "  4%|▍         | 30/705 [00:00<00:02, 285.30it/s]"
     ]
    },
    {
     "name": "stdout",
     "output_type": "stream",
     "text": [
      "in reset\n",
      "in step\n",
      "in take action\n",
      "action=705\n"
     ]
    },
    {
     "name": "stderr",
     "output_type": "stream",
     "text": [
      "100%|██████████| 705/705 [00:03<00:00, 229.54it/s]\n",
      "  4%|▍         | 32/751 [00:00<00:02, 312.52it/s]"
     ]
    },
    {
     "name": "stdout",
     "output_type": "stream",
     "text": [
      "in reset\n",
      "in step\n",
      "in take action\n",
      "action=751\n"
     ]
    },
    {
     "name": "stderr",
     "output_type": "stream",
     "text": [
      "100%|██████████| 751/751 [00:03<00:00, 215.98it/s]\n",
      " 14%|█▍        | 30/215 [00:00<00:00, 295.04it/s]"
     ]
    },
    {
     "name": "stdout",
     "output_type": "stream",
     "text": [
      "in reset\n",
      "in step\n",
      "in take action\n",
      "action=215\n"
     ]
    },
    {
     "name": "stderr",
     "output_type": "stream",
     "text": [
      "100%|██████████| 215/215 [00:00<00:00, 266.55it/s]\n",
      "  3%|▎         | 31/924 [00:00<00:02, 305.40it/s]"
     ]
    },
    {
     "name": "stdout",
     "output_type": "stream",
     "text": [
      "in reset\n",
      "in step\n",
      "in take action\n",
      "action=924\n"
     ]
    },
    {
     "name": "stderr",
     "output_type": "stream",
     "text": [
      "100%|██████████| 924/924 [00:03<00:00, 235.79it/s]\n",
      "  5%|▌         | 35/645 [00:00<00:01, 346.04it/s]"
     ]
    },
    {
     "name": "stdout",
     "output_type": "stream",
     "text": [
      "in reset\n",
      "in step\n",
      "in take action\n",
      "action=645\n"
     ]
    },
    {
     "name": "stderr",
     "output_type": "stream",
     "text": [
      "100%|██████████| 645/645 [00:02<00:00, 228.08it/s]\n",
      " 49%|████▉     | 31/63 [00:00<00:00, 309.40it/s]"
     ]
    },
    {
     "name": "stdout",
     "output_type": "stream",
     "text": [
      "in reset\n",
      "in step\n",
      "in take action\n",
      "action=63\n"
     ]
    },
    {
     "name": "stderr",
     "output_type": "stream",
     "text": [
      "100%|██████████| 63/63 [00:00<00:00, 245.42it/s]\n",
      "  6%|▌         | 32/515 [00:00<00:01, 312.49it/s]"
     ]
    },
    {
     "name": "stdout",
     "output_type": "stream",
     "text": [
      "in reset\n",
      "in step\n",
      "in take action\n",
      "action=515\n"
     ]
    },
    {
     "name": "stderr",
     "output_type": "stream",
     "text": [
      "100%|██████████| 515/515 [00:02<00:00, 214.97it/s]\n",
      "  4%|▎         | 32/891 [00:00<00:02, 319.38it/s]"
     ]
    },
    {
     "name": "stdout",
     "output_type": "stream",
     "text": [
      "in reset\n",
      "in step\n",
      "in take action\n",
      "action=891\n"
     ]
    },
    {
     "name": "stderr",
     "output_type": "stream",
     "text": [
      "100%|██████████| 891/891 [00:04<00:00, 204.62it/s]\n",
      "  6%|▋         | 34/533 [00:00<00:01, 332.35it/s]"
     ]
    },
    {
     "name": "stdout",
     "output_type": "stream",
     "text": [
      "in reset\n",
      "in step\n",
      "in take action\n",
      "action=533\n"
     ]
    },
    {
     "name": "stderr",
     "output_type": "stream",
     "text": [
      "100%|██████████| 533/533 [00:02<00:00, 259.62it/s]\n",
      " 34%|███▍      | 30/87 [00:00<00:00, 288.06it/s]"
     ]
    },
    {
     "name": "stdout",
     "output_type": "stream",
     "text": [
      "in reset\n",
      "in step\n",
      "in take action\n",
      "action=87\n"
     ]
    },
    {
     "name": "stderr",
     "output_type": "stream",
     "text": [
      "100%|██████████| 87/87 [00:00<00:00, 196.89it/s]\n",
      " 18%|█▊        | 30/166 [00:00<00:00, 292.46it/s]"
     ]
    },
    {
     "name": "stdout",
     "output_type": "stream",
     "text": [
      "in reset\n",
      "in step\n",
      "in take action\n",
      "action=166\n"
     ]
    },
    {
     "name": "stderr",
     "output_type": "stream",
     "text": [
      "100%|██████████| 166/166 [00:00<00:00, 221.60it/s]\n",
      "  6%|▌         | 25/429 [00:00<00:01, 244.57it/s]"
     ]
    },
    {
     "name": "stdout",
     "output_type": "stream",
     "text": [
      "in reset\n",
      "in step\n",
      "in take action\n",
      "action=429\n"
     ]
    },
    {
     "name": "stderr",
     "output_type": "stream",
     "text": [
      "100%|██████████| 429/429 [00:01<00:00, 217.75it/s]\n",
      "100%|██████████| 18/18 [00:00<00:00, 314.08it/s]\n",
      " 68%|██████▊   | 32/47 [00:00<00:00, 318.93it/s]"
     ]
    },
    {
     "name": "stdout",
     "output_type": "stream",
     "text": [
      "in reset\n",
      "in step\n",
      "in take action\n",
      "action=18\n",
      "in reset\n",
      "in step\n",
      "in take action\n",
      "action=47\n"
     ]
    },
    {
     "name": "stderr",
     "output_type": "stream",
     "text": [
      "100%|██████████| 47/47 [00:00<00:00, 260.54it/s]\n",
      "  2%|▏         | 18/999 [00:00<00:05, 178.61it/s]"
     ]
    },
    {
     "name": "stdout",
     "output_type": "stream",
     "text": [
      "in reset\n",
      "in step\n",
      "in take action\n",
      "action=999\n"
     ]
    },
    {
     "name": "stderr",
     "output_type": "stream",
     "text": [
      "100%|██████████| 999/999 [00:04<00:00, 213.05it/s]\n",
      " 16%|█▋        | 32/195 [00:00<00:00, 307.80it/s]"
     ]
    },
    {
     "name": "stdout",
     "output_type": "stream",
     "text": [
      "in reset\n",
      "in step\n",
      "in take action\n",
      "action=195\n"
     ]
    },
    {
     "name": "stderr",
     "output_type": "stream",
     "text": [
      "100%|██████████| 195/195 [00:00<00:00, 202.69it/s]\n",
      " 25%|██▌       | 32/127 [00:00<00:00, 315.47it/s]"
     ]
    },
    {
     "name": "stdout",
     "output_type": "stream",
     "text": [
      "in reset\n",
      "in step\n",
      "in take action\n",
      "action=127\n"
     ]
    },
    {
     "name": "stderr",
     "output_type": "stream",
     "text": [
      "100%|██████████| 127/127 [00:00<00:00, 248.05it/s]\n",
      "  2%|▏         | 21/859 [00:00<00:04, 208.85it/s]"
     ]
    },
    {
     "name": "stdout",
     "output_type": "stream",
     "text": [
      "in reset\n",
      "in step\n",
      "in take action\n",
      "action=859\n"
     ]
    },
    {
     "name": "stderr",
     "output_type": "stream",
     "text": [
      "100%|██████████| 859/859 [00:03<00:00, 229.30it/s]\n",
      "  4%|▍         | 35/843 [00:00<00:02, 345.04it/s]"
     ]
    },
    {
     "name": "stdout",
     "output_type": "stream",
     "text": [
      "in reset\n",
      "in step\n",
      "in take action\n",
      "action=843\n"
     ]
    },
    {
     "name": "stderr",
     "output_type": "stream",
     "text": [
      "100%|██████████| 843/843 [00:03<00:00, 224.24it/s]\n",
      "  9%|▉         | 31/342 [00:00<00:01, 293.91it/s]"
     ]
    },
    {
     "name": "stdout",
     "output_type": "stream",
     "text": [
      "in reset\n",
      "in step\n",
      "in take action\n",
      "action=342\n"
     ]
    },
    {
     "name": "stderr",
     "output_type": "stream",
     "text": [
      "100%|██████████| 342/342 [00:01<00:00, 192.84it/s]\n",
      "  8%|▊         | 31/377 [00:00<00:01, 309.65it/s]"
     ]
    },
    {
     "name": "stdout",
     "output_type": "stream",
     "text": [
      "in reset\n",
      "in step\n",
      "in take action\n",
      "action=377\n"
     ]
    },
    {
     "name": "stderr",
     "output_type": "stream",
     "text": [
      "100%|██████████| 377/377 [00:01<00:00, 256.83it/s]\n",
      "  5%|▍         | 32/686 [00:00<00:02, 314.95it/s]"
     ]
    },
    {
     "name": "stdout",
     "output_type": "stream",
     "text": [
      "in reset\n",
      "in step\n",
      "in take action\n",
      "action=686\n"
     ]
    },
    {
     "name": "stderr",
     "output_type": "stream",
     "text": [
      "100%|██████████| 686/686 [00:02<00:00, 306.72it/s]\n",
      "  3%|▎         | 31/889 [00:00<00:02, 309.03it/s]"
     ]
    },
    {
     "name": "stdout",
     "output_type": "stream",
     "text": [
      "in reset\n",
      "in step\n",
      "in take action\n",
      "action=889\n"
     ]
    },
    {
     "name": "stderr",
     "output_type": "stream",
     "text": [
      "100%|██████████| 889/889 [00:04<00:00, 216.13it/s]\n",
      "  3%|▎         | 30/883 [00:00<00:02, 293.37it/s]"
     ]
    },
    {
     "name": "stdout",
     "output_type": "stream",
     "text": [
      "in reset\n",
      "in step\n",
      "in take action\n",
      "action=883\n"
     ]
    },
    {
     "name": "stderr",
     "output_type": "stream",
     "text": [
      "100%|██████████| 883/883 [00:04<00:00, 194.77it/s]\n",
      " 15%|█▍        | 34/232 [00:00<00:00, 332.82it/s]"
     ]
    },
    {
     "name": "stdout",
     "output_type": "stream",
     "text": [
      "in reset\n",
      "in step\n",
      "in take action\n",
      "action=232\n"
     ]
    },
    {
     "name": "stderr",
     "output_type": "stream",
     "text": [
      "100%|██████████| 232/232 [00:00<00:00, 236.64it/s]\n",
      "  3%|▎         | 24/726 [00:00<00:02, 239.94it/s]"
     ]
    },
    {
     "name": "stdout",
     "output_type": "stream",
     "text": [
      "in reset\n",
      "in step\n",
      "in take action\n",
      "action=726\n"
     ]
    },
    {
     "name": "stderr",
     "output_type": "stream",
     "text": [
      "100%|██████████| 726/726 [00:03<00:00, 207.75it/s]\n",
      "  5%|▍         | 33/704 [00:00<00:02, 325.51it/s]"
     ]
    },
    {
     "name": "stdout",
     "output_type": "stream",
     "text": [
      "in reset\n",
      "in step\n",
      "in take action\n",
      "action=704\n"
     ]
    },
    {
     "name": "stderr",
     "output_type": "stream",
     "text": [
      "100%|██████████| 704/704 [00:03<00:00, 200.59it/s]\n",
      " 35%|███▍      | 33/95 [00:00<00:00, 325.38it/s]"
     ]
    },
    {
     "name": "stdout",
     "output_type": "stream",
     "text": [
      "in reset\n",
      "in step\n",
      "in take action\n",
      "action=95\n"
     ]
    },
    {
     "name": "stderr",
     "output_type": "stream",
     "text": [
      "100%|██████████| 95/95 [00:00<00:00, 218.36it/s]\n",
      "  2%|▏         | 17/880 [00:00<00:05, 163.30it/s]"
     ]
    },
    {
     "name": "stdout",
     "output_type": "stream",
     "text": [
      "in reset\n",
      "in step\n",
      "in take action\n",
      "action=880\n"
     ]
    },
    {
     "name": "stderr",
     "output_type": "stream",
     "text": [
      "100%|██████████| 880/880 [00:04<00:00, 212.01it/s]\n",
      "  6%|▌         | 31/559 [00:00<00:01, 307.19it/s]"
     ]
    },
    {
     "name": "stdout",
     "output_type": "stream",
     "text": [
      "in reset\n",
      "in step\n",
      "in take action\n",
      "action=559\n"
     ]
    },
    {
     "name": "stderr",
     "output_type": "stream",
     "text": [
      "100%|██████████| 559/559 [00:02<00:00, 240.37it/s]\n",
      "  9%|▉         | 30/338 [00:00<00:01, 297.21it/s]"
     ]
    },
    {
     "name": "stdout",
     "output_type": "stream",
     "text": [
      "in reset\n",
      "in step\n",
      "in take action\n",
      "action=338\n"
     ]
    },
    {
     "name": "stderr",
     "output_type": "stream",
     "text": [
      "100%|██████████| 338/338 [00:01<00:00, 203.42it/s]\n",
      "  6%|▌         | 34/557 [00:00<00:01, 332.89it/s]"
     ]
    },
    {
     "name": "stdout",
     "output_type": "stream",
     "text": [
      "in reset\n",
      "in step\n",
      "in take action\n",
      "action=557\n"
     ]
    },
    {
     "name": "stderr",
     "output_type": "stream",
     "text": [
      "100%|██████████| 557/557 [00:02<00:00, 230.02it/s]\n",
      "  4%|▎         | 30/853 [00:00<00:02, 284.22it/s]"
     ]
    },
    {
     "name": "stdout",
     "output_type": "stream",
     "text": [
      "in reset\n",
      "in step\n",
      "in take action\n",
      "action=853\n"
     ]
    },
    {
     "name": "stderr",
     "output_type": "stream",
     "text": [
      "100%|██████████| 853/853 [00:04<00:00, 209.59it/s]\n",
      " 11%|█         | 30/284 [00:00<00:00, 295.38it/s]"
     ]
    },
    {
     "name": "stdout",
     "output_type": "stream",
     "text": [
      "in reset\n",
      "in step\n",
      "in take action\n",
      "action=284\n"
     ]
    },
    {
     "name": "stderr",
     "output_type": "stream",
     "text": [
      "100%|██████████| 284/284 [00:01<00:00, 221.56it/s]\n",
      " 19%|█▊        | 30/161 [00:00<00:00, 298.20it/s]"
     ]
    },
    {
     "name": "stdout",
     "output_type": "stream",
     "text": [
      "in reset\n",
      "in step\n",
      "in take action\n",
      "action=161\n"
     ]
    },
    {
     "name": "stderr",
     "output_type": "stream",
     "text": [
      "100%|██████████| 161/161 [00:00<00:00, 200.54it/s]\n",
      "  5%|▍         | 24/517 [00:00<00:02, 237.80it/s]"
     ]
    },
    {
     "name": "stdout",
     "output_type": "stream",
     "text": [
      "in reset\n",
      "in step\n",
      "in take action\n",
      "action=517\n"
     ]
    },
    {
     "name": "stderr",
     "output_type": "stream",
     "text": [
      "100%|██████████| 517/517 [00:02<00:00, 203.10it/s]\n",
      "  7%|▋         | 31/438 [00:00<00:01, 309.64it/s]"
     ]
    },
    {
     "name": "stdout",
     "output_type": "stream",
     "text": [
      "in reset\n",
      "in step\n",
      "in take action\n",
      "action=438\n"
     ]
    },
    {
     "name": "stderr",
     "output_type": "stream",
     "text": [
      "100%|██████████| 438/438 [00:01<00:00, 229.47it/s]\n",
      " 22%|██▏       | 31/144 [00:00<00:00, 304.46it/s]"
     ]
    },
    {
     "name": "stdout",
     "output_type": "stream",
     "text": [
      "in reset\n",
      "in step\n",
      "in take action\n",
      "action=144\n"
     ]
    },
    {
     "name": "stderr",
     "output_type": "stream",
     "text": [
      "100%|██████████| 144/144 [00:00<00:00, 223.44it/s]\n",
      "  3%|▎         | 29/976 [00:00<00:03, 281.99it/s]"
     ]
    },
    {
     "name": "stdout",
     "output_type": "stream",
     "text": [
      "in reset\n",
      "in step\n",
      "in take action\n",
      "action=976\n"
     ]
    },
    {
     "name": "stderr",
     "output_type": "stream",
     "text": [
      "100%|██████████| 976/976 [00:05<00:00, 194.85it/s]\n",
      "  5%|▌         | 30/560 [00:00<00:01, 289.59it/s]"
     ]
    },
    {
     "name": "stdout",
     "output_type": "stream",
     "text": [
      "in reset\n",
      "in step\n",
      "in take action\n",
      "action=560\n"
     ]
    },
    {
     "name": "stderr",
     "output_type": "stream",
     "text": [
      "100%|██████████| 560/560 [00:02<00:00, 209.97it/s]\n",
      "  4%|▎         | 32/908 [00:00<00:02, 309.80it/s]"
     ]
    },
    {
     "name": "stdout",
     "output_type": "stream",
     "text": [
      "in reset\n",
      "in step\n",
      "in take action\n",
      "action=908\n"
     ]
    },
    {
     "name": "stderr",
     "output_type": "stream",
     "text": [
      "100%|██████████| 908/908 [00:04<00:00, 207.58it/s]\n",
      " 12%|█▏        | 30/252 [00:00<00:00, 293.76it/s]"
     ]
    },
    {
     "name": "stdout",
     "output_type": "stream",
     "text": [
      "in reset\n",
      "in step\n",
      "in take action\n",
      "action=252\n"
     ]
    },
    {
     "name": "stderr",
     "output_type": "stream",
     "text": [
      "100%|██████████| 252/252 [00:01<00:00, 220.59it/s]\n",
      "  6%|▌         | 32/559 [00:00<00:01, 312.88it/s]"
     ]
    },
    {
     "name": "stdout",
     "output_type": "stream",
     "text": [
      "in reset\n",
      "in step\n",
      "in take action\n",
      "action=559\n"
     ]
    },
    {
     "name": "stderr",
     "output_type": "stream",
     "text": [
      "100%|██████████| 559/559 [00:02<00:00, 187.73it/s]\n",
      "  5%|▍         | 35/704 [00:00<00:01, 340.63it/s]"
     ]
    },
    {
     "name": "stdout",
     "output_type": "stream",
     "text": [
      "in reset\n",
      "in step\n",
      "in take action\n",
      "action=704\n"
     ]
    },
    {
     "name": "stderr",
     "output_type": "stream",
     "text": [
      "100%|██████████| 704/704 [00:03<00:00, 206.62it/s]\n",
      "100%|██████████| 38/38 [00:00<00:00, 257.42it/s]\n",
      "  0%|          | 0/300 [00:00<?, ?it/s]"
     ]
    },
    {
     "name": "stdout",
     "output_type": "stream",
     "text": [
      "in reset\n",
      "in step\n",
      "in take action\n",
      "action=38\n",
      "in reset\n",
      "in step\n",
      "in take action\n",
      "action=300\n"
     ]
    },
    {
     "name": "stderr",
     "output_type": "stream",
     "text": [
      "100%|██████████| 300/300 [00:01<00:00, 192.73it/s]\n",
      "  7%|▋         | 32/443 [00:00<00:01, 312.70it/s]"
     ]
    },
    {
     "name": "stdout",
     "output_type": "stream",
     "text": [
      "in reset\n",
      "in step\n",
      "in take action\n",
      "action=443\n"
     ]
    },
    {
     "name": "stderr",
     "output_type": "stream",
     "text": [
      "100%|██████████| 443/443 [00:01<00:00, 224.10it/s]\n",
      "  7%|▋         | 34/477 [00:00<00:01, 338.77it/s]"
     ]
    },
    {
     "name": "stdout",
     "output_type": "stream",
     "text": [
      "in reset\n",
      "in step\n",
      "in take action\n",
      "action=477\n"
     ]
    },
    {
     "name": "stderr",
     "output_type": "stream",
     "text": [
      "100%|██████████| 477/477 [00:01<00:00, 267.46it/s]\n",
      " 12%|█▏        | 31/267 [00:00<00:00, 309.54it/s]"
     ]
    },
    {
     "name": "stdout",
     "output_type": "stream",
     "text": [
      "in reset\n",
      "in step\n",
      "in take action\n",
      "action=267\n"
     ]
    },
    {
     "name": "stderr",
     "output_type": "stream",
     "text": [
      "100%|██████████| 267/267 [00:01<00:00, 260.42it/s]\n",
      "  5%|▌         | 25/460 [00:00<00:01, 243.33it/s]"
     ]
    },
    {
     "name": "stdout",
     "output_type": "stream",
     "text": [
      "in reset\n",
      "in step\n",
      "in take action\n",
      "action=460\n"
     ]
    },
    {
     "name": "stderr",
     "output_type": "stream",
     "text": [
      "100%|██████████| 460/460 [00:02<00:00, 201.06it/s]\n",
      " 24%|██▍       | 32/132 [00:00<00:00, 314.13it/s]"
     ]
    },
    {
     "name": "stdout",
     "output_type": "stream",
     "text": [
      "in reset\n",
      "in step\n",
      "in take action\n",
      "action=132\n"
     ]
    },
    {
     "name": "stderr",
     "output_type": "stream",
     "text": [
      "100%|██████████| 132/132 [00:00<00:00, 201.29it/s]\n",
      "  8%|▊         | 27/333 [00:00<00:01, 265.71it/s]"
     ]
    },
    {
     "name": "stdout",
     "output_type": "stream",
     "text": [
      "in reset\n",
      "in step\n",
      "in take action\n",
      "action=333\n"
     ]
    },
    {
     "name": "stderr",
     "output_type": "stream",
     "text": [
      "100%|██████████| 333/333 [00:01<00:00, 204.22it/s]\n",
      "  4%|▍         | 30/697 [00:00<00:02, 296.50it/s]"
     ]
    },
    {
     "name": "stdout",
     "output_type": "stream",
     "text": [
      "in reset\n",
      "in step\n",
      "in take action\n",
      "action=697\n"
     ]
    },
    {
     "name": "stderr",
     "output_type": "stream",
     "text": [
      "100%|██████████| 697/697 [00:03<00:00, 217.46it/s]\n",
      "  5%|▍         | 30/654 [00:00<00:02, 295.94it/s]"
     ]
    },
    {
     "name": "stdout",
     "output_type": "stream",
     "text": [
      "in reset\n",
      "in step\n",
      "in take action\n",
      "action=654\n"
     ]
    },
    {
     "name": "stderr",
     "output_type": "stream",
     "text": [
      "100%|██████████| 654/654 [00:03<00:00, 214.46it/s]\n",
      "  4%|▍         | 31/727 [00:00<00:02, 303.80it/s]"
     ]
    },
    {
     "name": "stdout",
     "output_type": "stream",
     "text": [
      "in reset\n",
      "in step\n",
      "in take action\n",
      "action=727\n"
     ]
    },
    {
     "name": "stderr",
     "output_type": "stream",
     "text": [
      "100%|██████████| 727/727 [00:03<00:00, 207.85it/s]\n",
      "  3%|▎         | 33/966 [00:00<00:02, 325.96it/s]"
     ]
    },
    {
     "name": "stdout",
     "output_type": "stream",
     "text": [
      "in reset\n",
      "in step\n",
      "in take action\n",
      "action=966\n"
     ]
    },
    {
     "name": "stderr",
     "output_type": "stream",
     "text": [
      "100%|██████████| 966/966 [00:04<00:00, 218.26it/s]\n",
      "  8%|▊         | 31/397 [00:00<00:01, 308.13it/s]"
     ]
    },
    {
     "name": "stdout",
     "output_type": "stream",
     "text": [
      "in reset\n",
      "in step\n",
      "in take action\n",
      "action=397\n"
     ]
    },
    {
     "name": "stderr",
     "output_type": "stream",
     "text": [
      "100%|██████████| 397/397 [00:01<00:00, 252.26it/s]\n",
      "  4%|▍         | 31/776 [00:00<00:02, 304.60it/s]"
     ]
    },
    {
     "name": "stdout",
     "output_type": "stream",
     "text": [
      "in reset\n",
      "in step\n",
      "in take action\n",
      "action=776\n"
     ]
    },
    {
     "name": "stderr",
     "output_type": "stream",
     "text": [
      "100%|██████████| 776/776 [00:04<00:00, 193.53it/s]\n",
      "  4%|▍         | 32/732 [00:00<00:02, 315.44it/s]"
     ]
    },
    {
     "name": "stdout",
     "output_type": "stream",
     "text": [
      "in reset\n",
      "in step\n",
      "in take action\n",
      "action=732\n"
     ]
    },
    {
     "name": "stderr",
     "output_type": "stream",
     "text": [
      "100%|██████████| 732/732 [00:02<00:00, 245.10it/s]\n",
      " 10%|▉         | 31/319 [00:00<00:00, 304.68it/s]"
     ]
    },
    {
     "name": "stdout",
     "output_type": "stream",
     "text": [
      "in reset\n",
      "in step\n",
      "in take action\n",
      "action=319\n"
     ]
    },
    {
     "name": "stderr",
     "output_type": "stream",
     "text": [
      "100%|██████████| 319/319 [00:01<00:00, 234.39it/s]\n",
      "  3%|▎         | 32/936 [00:00<00:02, 316.79it/s]"
     ]
    },
    {
     "name": "stdout",
     "output_type": "stream",
     "text": [
      "in reset\n",
      "in step\n",
      "in take action\n",
      "action=936\n"
     ]
    },
    {
     "name": "stderr",
     "output_type": "stream",
     "text": [
      "100%|██████████| 936/936 [00:04<00:00, 228.41it/s]\n",
      "  6%|▌         | 31/507 [00:00<00:01, 309.71it/s]"
     ]
    },
    {
     "name": "stdout",
     "output_type": "stream",
     "text": [
      "in reset\n",
      "in step\n",
      "in take action\n",
      "action=507\n"
     ]
    },
    {
     "name": "stderr",
     "output_type": "stream",
     "text": [
      "100%|██████████| 507/507 [00:02<00:00, 199.00it/s]\n",
      "  4%|▎         | 27/722 [00:00<00:02, 257.09it/s]"
     ]
    },
    {
     "name": "stdout",
     "output_type": "stream",
     "text": [
      "in reset\n",
      "in step\n",
      "in take action\n",
      "action=722\n"
     ]
    },
    {
     "name": "stderr",
     "output_type": "stream",
     "text": [
      "100%|██████████| 722/722 [00:03<00:00, 221.85it/s]\n",
      " 12%|█▏        | 30/251 [00:00<00:00, 295.17it/s]"
     ]
    },
    {
     "name": "stdout",
     "output_type": "stream",
     "text": [
      "in reset\n",
      "in step\n",
      "in take action\n",
      "action=251\n"
     ]
    },
    {
     "name": "stderr",
     "output_type": "stream",
     "text": [
      "100%|██████████| 251/251 [00:01<00:00, 225.84it/s]\n",
      "  6%|▌         | 30/481 [00:00<00:01, 294.93it/s]"
     ]
    },
    {
     "name": "stdout",
     "output_type": "stream",
     "text": [
      "in reset\n",
      "in step\n",
      "in take action\n",
      "action=481\n"
     ]
    },
    {
     "name": "stderr",
     "output_type": "stream",
     "text": [
      "100%|██████████| 481/481 [00:02<00:00, 212.89it/s]\n",
      "  5%|▌         | 33/630 [00:00<00:01, 326.97it/s]"
     ]
    },
    {
     "name": "stdout",
     "output_type": "stream",
     "text": [
      "in reset\n",
      "in step\n",
      "in take action\n",
      "action=630\n"
     ]
    },
    {
     "name": "stderr",
     "output_type": "stream",
     "text": [
      "100%|██████████| 630/630 [00:02<00:00, 227.30it/s]\n",
      "  8%|▊         | 31/378 [00:00<00:01, 308.13it/s]"
     ]
    },
    {
     "name": "stdout",
     "output_type": "stream",
     "text": [
      "in reset\n",
      "in step\n",
      "in take action\n",
      "action=378\n"
     ]
    },
    {
     "name": "stderr",
     "output_type": "stream",
     "text": [
      "100%|██████████| 378/378 [00:01<00:00, 233.48it/s]\n",
      "  4%|▍         | 28/710 [00:00<00:02, 272.25it/s]"
     ]
    },
    {
     "name": "stdout",
     "output_type": "stream",
     "text": [
      "in reset\n",
      "in step\n",
      "in take action\n",
      "action=710\n"
     ]
    },
    {
     "name": "stderr",
     "output_type": "stream",
     "text": [
      "100%|██████████| 710/710 [00:03<00:00, 191.11it/s]\n",
      "  3%|▎         | 31/912 [00:00<00:02, 304.58it/s]"
     ]
    },
    {
     "name": "stdout",
     "output_type": "stream",
     "text": [
      "in reset\n",
      "in step\n",
      "in take action\n",
      "action=912\n"
     ]
    },
    {
     "name": "stderr",
     "output_type": "stream",
     "text": [
      "100%|██████████| 912/912 [00:04<00:00, 207.48it/s]\n",
      "  8%|▊         | 31/396 [00:00<00:01, 305.13it/s]"
     ]
    },
    {
     "name": "stdout",
     "output_type": "stream",
     "text": [
      "in reset\n",
      "in step\n",
      "in take action\n",
      "action=396\n"
     ]
    },
    {
     "name": "stderr",
     "output_type": "stream",
     "text": [
      "100%|██████████| 396/396 [00:01<00:00, 239.39it/s]\n",
      "  6%|▋         | 37/576 [00:00<00:01, 366.08it/s]"
     ]
    },
    {
     "name": "stdout",
     "output_type": "stream",
     "text": [
      "in reset\n",
      "in step\n",
      "in take action\n",
      "action=576\n"
     ]
    },
    {
     "name": "stderr",
     "output_type": "stream",
     "text": [
      "100%|██████████| 576/576 [00:02<00:00, 221.39it/s]\n",
      "  4%|▎         | 32/879 [00:00<00:02, 314.83it/s]"
     ]
    },
    {
     "name": "stdout",
     "output_type": "stream",
     "text": [
      "in reset\n",
      "in step\n",
      "in take action\n",
      "action=879\n"
     ]
    },
    {
     "name": "stderr",
     "output_type": "stream",
     "text": [
      "100%|██████████| 879/879 [00:04<00:00, 209.01it/s]\n",
      "  7%|▋         | 30/427 [00:00<00:01, 288.13it/s]"
     ]
    },
    {
     "name": "stdout",
     "output_type": "stream",
     "text": [
      "in reset\n",
      "in step\n",
      "in take action\n",
      "action=427\n"
     ]
    },
    {
     "name": "stderr",
     "output_type": "stream",
     "text": [
      "100%|██████████| 427/427 [00:02<00:00, 212.54it/s]\n",
      "  4%|▍         | 31/781 [00:00<00:02, 309.13it/s]"
     ]
    },
    {
     "name": "stdout",
     "output_type": "stream",
     "text": [
      "in reset\n",
      "in step\n",
      "in take action\n",
      "action=781\n"
     ]
    },
    {
     "name": "stderr",
     "output_type": "stream",
     "text": [
      "100%|██████████| 781/781 [00:03<00:00, 223.79it/s]\n",
      "  9%|▉         | 35/383 [00:00<00:01, 345.71it/s]"
     ]
    },
    {
     "name": "stdout",
     "output_type": "stream",
     "text": [
      "in reset\n",
      "in step\n",
      "in take action\n",
      "action=383\n"
     ]
    },
    {
     "name": "stderr",
     "output_type": "stream",
     "text": [
      "100%|██████████| 383/383 [00:01<00:00, 262.20it/s]\n",
      "  7%|▋         | 31/420 [00:00<00:01, 307.84it/s]"
     ]
    },
    {
     "name": "stdout",
     "output_type": "stream",
     "text": [
      "in reset\n",
      "in step\n",
      "in take action\n",
      "action=420\n"
     ]
    },
    {
     "name": "stderr",
     "output_type": "stream",
     "text": [
      "100%|██████████| 420/420 [00:02<00:00, 197.02it/s]\n",
      "  5%|▌         | 31/579 [00:00<00:01, 307.42it/s]"
     ]
    },
    {
     "name": "stdout",
     "output_type": "stream",
     "text": [
      "in reset\n",
      "in step\n",
      "in take action\n",
      "action=579\n"
     ]
    },
    {
     "name": "stderr",
     "output_type": "stream",
     "text": [
      "100%|██████████| 579/579 [00:02<00:00, 224.81it/s]\n",
      "  5%|▌         | 34/667 [00:00<00:01, 337.90it/s]"
     ]
    },
    {
     "name": "stdout",
     "output_type": "stream",
     "text": [
      "in reset\n",
      "in step\n",
      "in take action\n",
      "action=667\n"
     ]
    },
    {
     "name": "stderr",
     "output_type": "stream",
     "text": [
      "100%|██████████| 667/667 [00:02<00:00, 227.24it/s]\n",
      "  3%|▎         | 31/973 [00:00<00:03, 305.18it/s]"
     ]
    },
    {
     "name": "stdout",
     "output_type": "stream",
     "text": [
      "in reset\n",
      "in step\n",
      "in take action\n",
      "action=973\n"
     ]
    },
    {
     "name": "stderr",
     "output_type": "stream",
     "text": [
      "100%|██████████| 973/973 [00:04<00:00, 227.51it/s]\n",
      "  3%|▎         | 30/861 [00:00<00:02, 295.61it/s]"
     ]
    },
    {
     "name": "stdout",
     "output_type": "stream",
     "text": [
      "in reset\n",
      "in step\n",
      "in take action\n",
      "action=861\n"
     ]
    },
    {
     "name": "stderr",
     "output_type": "stream",
     "text": [
      "100%|██████████| 861/861 [00:03<00:00, 223.08it/s]\n",
      "  4%|▍         | 32/735 [00:00<00:02, 311.10it/s]"
     ]
    },
    {
     "name": "stdout",
     "output_type": "stream",
     "text": [
      "in reset\n",
      "in step\n",
      "in take action\n",
      "action=735\n"
     ]
    },
    {
     "name": "stderr",
     "output_type": "stream",
     "text": [
      "100%|██████████| 735/735 [00:03<00:00, 223.94it/s]\n",
      "  7%|▋         | 33/456 [00:00<00:01, 317.80it/s]"
     ]
    },
    {
     "name": "stdout",
     "output_type": "stream",
     "text": [
      "in reset\n",
      "in step\n",
      "in take action\n",
      "action=456\n"
     ]
    },
    {
     "name": "stderr",
     "output_type": "stream",
     "text": [
      "100%|██████████| 456/456 [00:02<00:00, 209.04it/s]\n",
      "  5%|▌         | 32/629 [00:00<00:01, 313.84it/s]"
     ]
    },
    {
     "name": "stdout",
     "output_type": "stream",
     "text": [
      "in reset\n",
      "in step\n",
      "in take action\n",
      "action=629\n"
     ]
    },
    {
     "name": "stderr",
     "output_type": "stream",
     "text": [
      "100%|██████████| 629/629 [00:02<00:00, 255.37it/s]\n",
      "  8%|▊         | 32/379 [00:00<00:01, 315.07it/s]"
     ]
    },
    {
     "name": "stdout",
     "output_type": "stream",
     "text": [
      "in reset\n",
      "in step\n",
      "in take action\n",
      "action=379\n"
     ]
    },
    {
     "name": "stderr",
     "output_type": "stream",
     "text": [
      "100%|██████████| 379/379 [00:01<00:00, 214.91it/s]\n",
      "  4%|▎         | 28/756 [00:00<00:02, 270.97it/s]"
     ]
    },
    {
     "name": "stdout",
     "output_type": "stream",
     "text": [
      "in reset\n",
      "in step\n",
      "in take action\n",
      "action=756\n"
     ]
    },
    {
     "name": "stderr",
     "output_type": "stream",
     "text": [
      "100%|██████████| 756/756 [00:03<00:00, 227.78it/s]\n",
      "  5%|▌         | 30/547 [00:00<00:01, 298.21it/s]"
     ]
    },
    {
     "name": "stdout",
     "output_type": "stream",
     "text": [
      "in reset\n",
      "in step\n",
      "in take action\n",
      "action=547\n"
     ]
    },
    {
     "name": "stderr",
     "output_type": "stream",
     "text": [
      "100%|██████████| 547/547 [00:02<00:00, 224.01it/s]\n",
      "  4%|▍         | 31/762 [00:00<00:02, 309.01it/s]"
     ]
    },
    {
     "name": "stdout",
     "output_type": "stream",
     "text": [
      "in reset\n",
      "in step\n",
      "in take action\n",
      "action=762\n"
     ]
    },
    {
     "name": "stderr",
     "output_type": "stream",
     "text": [
      "100%|██████████| 762/762 [00:03<00:00, 210.15it/s]\n",
      "  4%|▍         | 34/900 [00:00<00:02, 328.76it/s]"
     ]
    },
    {
     "name": "stdout",
     "output_type": "stream",
     "text": [
      "in reset\n",
      "in step\n",
      "in take action\n",
      "action=900\n"
     ]
    },
    {
     "name": "stderr",
     "output_type": "stream",
     "text": [
      "100%|██████████| 900/900 [00:03<00:00, 238.22it/s]\n",
      " 21%|██        | 31/150 [00:00<00:00, 307.33it/s]"
     ]
    },
    {
     "name": "stdout",
     "output_type": "stream",
     "text": [
      "in reset\n",
      "in step\n",
      "in take action\n",
      "action=150\n"
     ]
    },
    {
     "name": "stderr",
     "output_type": "stream",
     "text": [
      "100%|██████████| 150/150 [00:00<00:00, 311.03it/s]\n",
      "  5%|▍         | 24/525 [00:00<00:02, 231.63it/s]"
     ]
    },
    {
     "name": "stdout",
     "output_type": "stream",
     "text": [
      "in reset\n",
      "in step\n",
      "in take action\n",
      "action=525\n"
     ]
    },
    {
     "name": "stderr",
     "output_type": "stream",
     "text": [
      "100%|██████████| 525/525 [00:02<00:00, 186.54it/s]\n",
      "  3%|▎         | 28/889 [00:00<00:03, 270.77it/s]"
     ]
    },
    {
     "name": "stdout",
     "output_type": "stream",
     "text": [
      "in reset\n",
      "in step\n",
      "in take action\n",
      "action=889\n"
     ]
    },
    {
     "name": "stderr",
     "output_type": "stream",
     "text": [
      "100%|██████████| 889/889 [00:04<00:00, 205.90it/s]\n",
      "  4%|▎         | 31/879 [00:00<00:02, 306.56it/s]"
     ]
    },
    {
     "name": "stdout",
     "output_type": "stream",
     "text": [
      "in reset\n",
      "in step\n",
      "in take action\n",
      "action=879\n"
     ]
    },
    {
     "name": "stderr",
     "output_type": "stream",
     "text": [
      "100%|██████████| 879/879 [00:03<00:00, 267.83it/s]\n",
      "  3%|▎         | 28/979 [00:00<00:03, 276.03it/s]"
     ]
    },
    {
     "name": "stdout",
     "output_type": "stream",
     "text": [
      "in reset\n",
      "in step\n",
      "in take action\n",
      "action=979\n"
     ]
    },
    {
     "name": "stderr",
     "output_type": "stream",
     "text": [
      "100%|██████████| 979/979 [00:04<00:00, 216.28it/s]\n",
      "  5%|▌         | 33/653 [00:00<00:01, 323.14it/s]"
     ]
    },
    {
     "name": "stdout",
     "output_type": "stream",
     "text": [
      "in reset\n",
      "in step\n",
      "in take action\n",
      "action=653\n"
     ]
    },
    {
     "name": "stderr",
     "output_type": "stream",
     "text": [
      "100%|██████████| 653/653 [00:03<00:00, 193.32it/s]\n",
      "  4%|▍         | 30/772 [00:00<00:02, 298.87it/s]"
     ]
    },
    {
     "name": "stdout",
     "output_type": "stream",
     "text": [
      "in reset\n",
      "in step\n",
      "in take action\n",
      "action=772\n"
     ]
    },
    {
     "name": "stderr",
     "output_type": "stream",
     "text": [
      "100%|██████████| 772/772 [00:03<00:00, 226.38it/s]\n",
      "  5%|▌         | 30/584 [00:00<00:01, 288.36it/s]"
     ]
    },
    {
     "name": "stdout",
     "output_type": "stream",
     "text": [
      "in reset\n",
      "in step\n",
      "in take action\n",
      "action=584\n"
     ]
    },
    {
     "name": "stderr",
     "output_type": "stream",
     "text": [
      "100%|██████████| 584/584 [00:02<00:00, 251.82it/s]\n",
      "  5%|▍         | 33/673 [00:00<00:01, 329.65it/s]"
     ]
    },
    {
     "name": "stdout",
     "output_type": "stream",
     "text": [
      "in reset\n",
      "in step\n",
      "in take action\n",
      "action=673\n"
     ]
    },
    {
     "name": "stderr",
     "output_type": "stream",
     "text": [
      "100%|██████████| 673/673 [00:03<00:00, 212.34it/s]\n",
      "  6%|▌         | 32/577 [00:00<00:01, 319.07it/s]"
     ]
    },
    {
     "name": "stdout",
     "output_type": "stream",
     "text": [
      "in reset\n",
      "in step\n",
      "in take action\n",
      "action=577\n"
     ]
    },
    {
     "name": "stderr",
     "output_type": "stream",
     "text": [
      "100%|██████████| 577/577 [00:02<00:00, 213.14it/s]\n",
      " 15%|█▍        | 34/234 [00:00<00:00, 339.80it/s]"
     ]
    },
    {
     "name": "stdout",
     "output_type": "stream",
     "text": [
      "in reset\n",
      "in step\n",
      "in take action\n",
      "action=234\n"
     ]
    },
    {
     "name": "stderr",
     "output_type": "stream",
     "text": [
      "100%|██████████| 234/234 [00:00<00:00, 242.49it/s]\n",
      "  7%|▋         | 25/336 [00:00<00:01, 244.71it/s]"
     ]
    },
    {
     "name": "stdout",
     "output_type": "stream",
     "text": [
      "in reset\n",
      "in step\n",
      "in take action\n",
      "action=336\n"
     ]
    },
    {
     "name": "stderr",
     "output_type": "stream",
     "text": [
      "100%|██████████| 336/336 [00:01<00:00, 193.59it/s]\n",
      "  8%|▊         | 31/396 [00:00<00:01, 308.20it/s]"
     ]
    },
    {
     "name": "stdout",
     "output_type": "stream",
     "text": [
      "in reset\n",
      "in step\n",
      "in take action\n",
      "action=396\n"
     ]
    },
    {
     "name": "stderr",
     "output_type": "stream",
     "text": [
      "100%|██████████| 396/396 [00:01<00:00, 263.65it/s]\n",
      "  8%|▊         | 30/379 [00:00<00:01, 296.08it/s]"
     ]
    },
    {
     "name": "stdout",
     "output_type": "stream",
     "text": [
      "in reset\n",
      "in step\n",
      "in take action\n",
      "action=379\n"
     ]
    },
    {
     "name": "stderr",
     "output_type": "stream",
     "text": [
      "100%|██████████| 379/379 [00:01<00:00, 214.28it/s]\n",
      " 23%|██▎       | 29/127 [00:00<00:00, 284.69it/s]"
     ]
    },
    {
     "name": "stdout",
     "output_type": "stream",
     "text": [
      "in reset\n",
      "in step\n",
      "in take action\n",
      "action=127\n"
     ]
    },
    {
     "name": "stderr",
     "output_type": "stream",
     "text": [
      "100%|██████████| 127/127 [00:00<00:00, 216.75it/s]\n",
      "  3%|▎         | 23/716 [00:00<00:03, 223.85it/s]"
     ]
    },
    {
     "name": "stdout",
     "output_type": "stream",
     "text": [
      "in reset\n",
      "in step\n",
      "in take action\n",
      "action=716\n"
     ]
    },
    {
     "name": "stderr",
     "output_type": "stream",
     "text": [
      "100%|██████████| 716/716 [00:03<00:00, 199.99it/s]\n",
      "  9%|▊         | 36/415 [00:00<00:01, 354.98it/s]"
     ]
    },
    {
     "name": "stdout",
     "output_type": "stream",
     "text": [
      "in reset\n",
      "in step\n",
      "in take action\n",
      "action=415\n"
     ]
    },
    {
     "name": "stderr",
     "output_type": "stream",
     "text": [
      "100%|██████████| 415/415 [00:02<00:00, 200.31it/s]"
     ]
    },
    {
     "name": "stdout",
     "output_type": "stream",
     "text": [
      "in reset\n",
      "-------------------------------------\n",
      "| approxkl           | 0.0004475885 |\n",
      "| clipfrac           | 0.0          |\n",
      "| explained_variance | -0.000127    |\n",
      "| fps                | 0            |\n",
      "| n_updates          | 3            |\n",
      "| policy_entropy     | 6.9058003    |\n",
      "| policy_loss        | 0.0055909366 |\n",
      "| serial_timesteps   | 384          |\n",
      "| time_elapsed       | 624          |\n",
      "| total_timesteps    | 384          |\n",
      "| value_loss         | 491956.56    |\n",
      "-------------------------------------\n",
      "CPU times: user 16min 54s, sys: 1min 5s, total: 17min 59s\n",
      "Wall time: 15min 49s\n"
     ]
    },
    {
     "name": "stderr",
     "output_type": "stream",
     "text": [
      "\n"
     ]
    },
    {
     "data": {
      "text/plain": [
       "<stable_baselines.ppo2.ppo2.PPO2 at 0x7f011c09c510>"
      ]
     },
     "execution_count": 7,
     "metadata": {},
     "output_type": "execute_result"
    }
   ],
   "source": [
    "%%time\n",
    "model = PPO2(MlpPolicy, env, verbose=1)\n",
    "model.learn(total_timesteps=500, tensorboard_log=\"ppo2_tensorboard\")\n",
    "\n",
    "\n",
    "# obs = env.reset()\n",
    "# for i in range(2000):"
   ]
  }
 ],
 "metadata": {
  "kernelspec": {
   "display_name": "Python [conda env:teza] *",
   "language": "python",
   "name": "conda-env-teza-py"
  },
  "language_info": {
   "codemirror_mode": {
    "name": "ipython",
    "version": 3
   },
   "file_extension": ".py",
   "mimetype": "text/x-python",
   "name": "python",
   "nbconvert_exporter": "python",
   "pygments_lexer": "ipython3",
   "version": "3.7.5"
  },
  "pycharm": {
   "stem_cell": {
    "cell_type": "raw",
    "source": [],
    "metadata": {
     "collapsed": false
    }
   }
  }
 },
 "nbformat": 4,
 "nbformat_minor": 4
}